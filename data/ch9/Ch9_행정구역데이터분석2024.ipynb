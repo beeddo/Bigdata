{
 "cells": [
  {
   "cell_type": "markdown",
   "metadata": {},
   "source": [
    "# 9장. 지리 정보 분석 (2) 행정구역별 데이터 분석 + 블록맵"
   ]
  },
  {
   "cell_type": "markdown",
   "metadata": {},
   "source": [
    "# 1. 데이터 준비 및 탐색"
   ]
  },
  {
   "cell_type": "code",
   "execution_count": 1,
   "metadata": {},
   "outputs": [
    {
     "data": {
      "text/html": [
       "<div>\n",
       "<style scoped>\n",
       "    .dataframe tbody tr th:only-of-type {\n",
       "        vertical-align: middle;\n",
       "    }\n",
       "\n",
       "    .dataframe tbody tr th {\n",
       "        vertical-align: top;\n",
       "    }\n",
       "\n",
       "    .dataframe thead th {\n",
       "        text-align: right;\n",
       "    }\n",
       "</style>\n",
       "<table border=\"1\" class=\"dataframe\">\n",
       "  <thead>\n",
       "    <tr style=\"text-align: right;\">\n",
       "      <th></th>\n",
       "      <th>병원 명</th>\n",
       "      <th>설립형태</th>\n",
       "      <th>근거 법령</th>\n",
       "      <th>관계 행정기관</th>\n",
       "      <th>관계 공공단체</th>\n",
       "      <th>심평원 요양기관번호</th>\n",
       "      <th>종별구분</th>\n",
       "      <th>병상수</th>\n",
       "      <th>소재지 우편번호</th>\n",
       "      <th>주소</th>\n",
       "      <th>홈페이지</th>\n",
       "      <th>대표전화</th>\n",
       "      <th>FAX</th>\n",
       "      <th>비고</th>\n",
       "    </tr>\n",
       "    <tr>\n",
       "      <th>연번</th>\n",
       "      <th></th>\n",
       "      <th></th>\n",
       "      <th></th>\n",
       "      <th></th>\n",
       "      <th></th>\n",
       "      <th></th>\n",
       "      <th></th>\n",
       "      <th></th>\n",
       "      <th></th>\n",
       "      <th></th>\n",
       "      <th></th>\n",
       "      <th></th>\n",
       "      <th></th>\n",
       "      <th></th>\n",
       "    </tr>\n",
       "  </thead>\n",
       "  <tbody>\n",
       "    <tr>\n",
       "      <th>1</th>\n",
       "      <td>강원도 재활병원</td>\n",
       "      <td>시도립</td>\n",
       "      <td>강원도재활병원설치및운영에관한조례</td>\n",
       "      <td>강원도</td>\n",
       "      <td>해당없음</td>\n",
       "      <td>32200641</td>\n",
       "      <td>병원</td>\n",
       "      <td>165</td>\n",
       "      <td>24227</td>\n",
       "      <td>강원도 춘천시 충열로 142번길 24-16</td>\n",
       "      <td>www.grh.or.kr</td>\n",
       "      <td>033-248-7700</td>\n",
       "      <td>033-248-7723</td>\n",
       "      <td>NaN</td>\n",
       "    </tr>\n",
       "    <tr>\n",
       "      <th>2</th>\n",
       "      <td>강원도 삼척의료원</td>\n",
       "      <td>특수법인</td>\n",
       "      <td>지방의료원의 설립 및 운영에 관한 법률</td>\n",
       "      <td>보건복지부(강원도)</td>\n",
       "      <td>지방의료원</td>\n",
       "      <td>32100060</td>\n",
       "      <td>종합병원</td>\n",
       "      <td>152</td>\n",
       "      <td>25920</td>\n",
       "      <td>강원도 삼척시 오십천로 418</td>\n",
       "      <td>http://ksmc.or.kr</td>\n",
       "      <td>033-572-1141</td>\n",
       "      <td>033-573-8424</td>\n",
       "      <td>NaN</td>\n",
       "    </tr>\n",
       "    <tr>\n",
       "      <th>3</th>\n",
       "      <td>강원도 영월의료원</td>\n",
       "      <td>특수법인</td>\n",
       "      <td>지방의료원의 설립 및 운영에 관한 법률</td>\n",
       "      <td>보건복지부(강원도)</td>\n",
       "      <td>지방의료원</td>\n",
       "      <td>32100078</td>\n",
       "      <td>종합병원</td>\n",
       "      <td>214</td>\n",
       "      <td>26234</td>\n",
       "      <td>강원도 영월군 영월읍 중앙1로 59</td>\n",
       "      <td>http://www.youngwol.org</td>\n",
       "      <td>033-370-9117</td>\n",
       "      <td>033-370-9137</td>\n",
       "      <td>NaN</td>\n",
       "    </tr>\n",
       "    <tr>\n",
       "      <th>4</th>\n",
       "      <td>강원도 원주의료원</td>\n",
       "      <td>특수법인</td>\n",
       "      <td>지방의료원의 설립 및 운영에 관한 법률</td>\n",
       "      <td>보건복지부(강원도)</td>\n",
       "      <td>지방의료원</td>\n",
       "      <td>32100086</td>\n",
       "      <td>종합병원</td>\n",
       "      <td>237</td>\n",
       "      <td>26448</td>\n",
       "      <td>강원도 원주시 서원대로 387(개운동)</td>\n",
       "      <td>www.kwmc.or.kr</td>\n",
       "      <td>033-760-4500</td>\n",
       "      <td>033-761-5121</td>\n",
       "      <td>NaN</td>\n",
       "    </tr>\n",
       "    <tr>\n",
       "      <th>5</th>\n",
       "      <td>강원도 강릉의료원</td>\n",
       "      <td>특수법인</td>\n",
       "      <td>지방의료원의 설립 및 운영에 관한 법률</td>\n",
       "      <td>보건복지부(강원도)</td>\n",
       "      <td>지방의료원</td>\n",
       "      <td>32100159</td>\n",
       "      <td>종합병원</td>\n",
       "      <td>137</td>\n",
       "      <td>25535</td>\n",
       "      <td>강원도 강릉시 경강로 2007(남문동 164-1)</td>\n",
       "      <td>http://www.gnmc.or.kr</td>\n",
       "      <td>033-646-6910</td>\n",
       "      <td>033-610-1415</td>\n",
       "      <td>NaN</td>\n",
       "    </tr>\n",
       "  </tbody>\n",
       "</table>\n",
       "</div>"
      ],
      "text/plain": [
       "         병원 명  설립형태                  근거 법령     관계 행정기관 관계 공공단체  심평원 요양기관번호  \\\n",
       "연번                                                                           \n",
       "1    강원도 재활병원   시도립      강원도재활병원설치및운영에관한조례         강원도    해당없음    32200641   \n",
       "2   강원도 삼척의료원  특수법인  지방의료원의 설립 및 운영에 관한 법률  보건복지부(강원도)   지방의료원    32100060   \n",
       "3   강원도 영월의료원  특수법인  지방의료원의 설립 및 운영에 관한 법률  보건복지부(강원도)   지방의료원    32100078   \n",
       "4   강원도 원주의료원  특수법인  지방의료원의 설립 및 운영에 관한 법률  보건복지부(강원도)   지방의료원    32100086   \n",
       "5   강원도 강릉의료원  특수법인  지방의료원의 설립 및 운영에 관한 법률  보건복지부(강원도)   지방의료원    32100159   \n",
       "\n",
       "    종별구분  병상수 소재지 우편번호                           주소                     홈페이지  \\\n",
       "연번                                                                             \n",
       "1     병원  165    24227      강원도 춘천시 충열로 142번길 24-16            www.grh.or.kr   \n",
       "2   종합병원  152    25920             강원도 삼척시 오십천로 418        http://ksmc.or.kr   \n",
       "3   종합병원  214    26234          강원도 영월군 영월읍 중앙1로 59  http://www.youngwol.org   \n",
       "4   종합병원  237    26448        강원도 원주시 서원대로 387(개운동)           www.kwmc.or.kr   \n",
       "5   종합병원  137    25535  강원도 강릉시 경강로 2007(남문동 164-1)    http://www.gnmc.or.kr   \n",
       "\n",
       "            대표전화           FAX   비고  \n",
       "연번                                   \n",
       "1   033-248-7700  033-248-7723  NaN  \n",
       "2   033-572-1141  033-573-8424  NaN  \n",
       "3   033-370-9117  033-370-9137  NaN  \n",
       "4   033-760-4500  033-761-5121  NaN  \n",
       "5   033-646-6910  033-610-1415  NaN  "
      ]
     },
     "execution_count": 1,
     "metadata": {},
     "output_type": "execute_result"
    }
   ],
   "source": [
    "import pandas as pd\n",
    "pd.set_option('mode.chained_assignment',  None) # Warning 방지용\n",
    "import numpy as np\n",
    "\n",
    "data = pd.read_csv('공공보건의료기관현황.csv', index_col=0, encoding='CP949', engine='python')\n",
    "\n",
    "data.head() #작업내용 확인용 출력"
   ]
  },
  {
   "cell_type": "markdown",
   "metadata": {},
   "source": [
    "주소에서 시도, 군구 정보 분리\n",
    "data 객체에서 [‘주소’] 컬럼의 값을 띄어쓰기를 기준으로 분리하여split( ), \n",
    "시군과 군구 정보에 해당하는 0~1번 컬럼 [:2]을 추출해서 컬럼 이름을 ‘시도’, ‘군구’로 나타내고 columns=(' 시도', '군구’), \n",
    "데이터프레임 객체인 addr을 생성하고 생성된 addr 객체의 내용을 출력하여 addr.head( ) 확인"
   ]
  },
  {
   "cell_type": "code",
   "execution_count": 2,
   "metadata": {},
   "outputs": [
    {
     "data": {
      "text/html": [
       "<div>\n",
       "<style scoped>\n",
       "    .dataframe tbody tr th:only-of-type {\n",
       "        vertical-align: middle;\n",
       "    }\n",
       "\n",
       "    .dataframe tbody tr th {\n",
       "        vertical-align: top;\n",
       "    }\n",
       "\n",
       "    .dataframe thead th {\n",
       "        text-align: right;\n",
       "    }\n",
       "</style>\n",
       "<table border=\"1\" class=\"dataframe\">\n",
       "  <thead>\n",
       "    <tr style=\"text-align: right;\">\n",
       "      <th></th>\n",
       "      <th>시도</th>\n",
       "      <th>군구</th>\n",
       "    </tr>\n",
       "  </thead>\n",
       "  <tbody>\n",
       "    <tr>\n",
       "      <th>0</th>\n",
       "      <td>강원도</td>\n",
       "      <td>춘천시</td>\n",
       "    </tr>\n",
       "    <tr>\n",
       "      <th>1</th>\n",
       "      <td>강원도</td>\n",
       "      <td>삼척시</td>\n",
       "    </tr>\n",
       "    <tr>\n",
       "      <th>2</th>\n",
       "      <td>강원도</td>\n",
       "      <td>영월군</td>\n",
       "    </tr>\n",
       "    <tr>\n",
       "      <th>3</th>\n",
       "      <td>강원도</td>\n",
       "      <td>원주시</td>\n",
       "    </tr>\n",
       "    <tr>\n",
       "      <th>4</th>\n",
       "      <td>강원도</td>\n",
       "      <td>강릉시</td>\n",
       "    </tr>\n",
       "  </tbody>\n",
       "</table>\n",
       "</div>"
      ],
      "text/plain": [
       "    시도   군구\n",
       "0  강원도  춘천시\n",
       "1  강원도  삼척시\n",
       "2  강원도  영월군\n",
       "3  강원도  원주시\n",
       "4  강원도  강릉시"
      ]
     },
     "execution_count": 2,
     "metadata": {},
     "output_type": "execute_result"
    }
   ],
   "source": [
    "## 주소에서 시도, 군구 정보 분리\n",
    "\n",
    "addr = pd.DataFrame(data['주소'].apply(lambda v: v.split()[:2]).tolist(),columns=('시도', '군구'))\n",
    "\n",
    "addr.head()  #작업내용 확인용 출력"
   ]
  },
  {
   "cell_type": "markdown",
   "metadata": {},
   "source": [
    "## 1) 시도 이름 확인하기"
   ]
  },
  {
   "cell_type": "code",
   "execution_count": 3,
   "metadata": {},
   "outputs": [
    {
     "data": {
      "text/plain": [
       "array(['강원도', '경기도', '경기', '경남', '창원시', '경상남도', '경상북도', '경산시', '경북',\n",
       "       '인천광역시', '대구광역시', '전라남도', '대전광역시', '광주광역시', '제주특별자치도', '부산광역시',\n",
       "       '전라북도', '충북', '서울특별시', '서울시', '부산특별시', '대전시', '충남', '전남', '충청남도',\n",
       "       '울산광역시', '전북', '천안시', '충청북도'], dtype=object)"
      ]
     },
     "execution_count": 3,
     "metadata": {},
     "output_type": "execute_result"
    }
   ],
   "source": [
    "addr['시도'].unique()"
   ]
  },
  {
   "cell_type": "markdown",
   "metadata": {},
   "source": [
    "### #잘못된 시도 이름 수정 : 창원시, 경산시, 천안시"
   ]
  },
  {
   "cell_type": "markdown",
   "metadata": {},
   "source": [
    "#### (1) '창원시'를 찾아서 '경상남도 창원시'로 수정"
   ]
  },
  {
   "cell_type": "code",
   "execution_count": 4,
   "metadata": {},
   "outputs": [
    {
     "data": {
      "text/html": [
       "<div>\n",
       "<style scoped>\n",
       "    .dataframe tbody tr th:only-of-type {\n",
       "        vertical-align: middle;\n",
       "    }\n",
       "\n",
       "    .dataframe tbody tr th {\n",
       "        vertical-align: top;\n",
       "    }\n",
       "\n",
       "    .dataframe thead th {\n",
       "        text-align: right;\n",
       "    }\n",
       "</style>\n",
       "<table border=\"1\" class=\"dataframe\">\n",
       "  <thead>\n",
       "    <tr style=\"text-align: right;\">\n",
       "      <th></th>\n",
       "      <th>시도</th>\n",
       "      <th>군구</th>\n",
       "    </tr>\n",
       "  </thead>\n",
       "  <tbody>\n",
       "    <tr>\n",
       "      <th>27</th>\n",
       "      <td>창원시</td>\n",
       "      <td>의창구</td>\n",
       "    </tr>\n",
       "    <tr>\n",
       "      <th>31</th>\n",
       "      <td>창원시</td>\n",
       "      <td>마산합포구3.15대로</td>\n",
       "    </tr>\n",
       "  </tbody>\n",
       "</table>\n",
       "</div>"
      ],
      "text/plain": [
       "     시도           군구\n",
       "27  창원시          의창구\n",
       "31  창원시  마산합포구3.15대로"
      ]
     },
     "execution_count": 4,
     "metadata": {},
     "output_type": "execute_result"
    }
   ],
   "source": [
    "addr[addr['시도'] == '창원시']"
   ]
  },
  {
   "cell_type": "code",
   "execution_count": 5,
   "metadata": {},
   "outputs": [],
   "source": [
    "## 표준 행정구역 이름으로 수정 : 창원시-> 경상남도 창원시\n",
    "addr.iloc[27] = ['경상남도', '창원시']\n",
    "addr.iloc[31] = ['경상남도', '창원시']"
   ]
  },
  {
   "cell_type": "code",
   "execution_count": 6,
   "metadata": {},
   "outputs": [
    {
     "data": {
      "text/plain": [
       "시도    경상남도\n",
       "군구     창원시\n",
       "Name: 27, dtype: object"
      ]
     },
     "execution_count": 6,
     "metadata": {},
     "output_type": "execute_result"
    }
   ],
   "source": [
    "addr.iloc[27]"
   ]
  },
  {
   "cell_type": "code",
   "execution_count": 7,
   "metadata": {},
   "outputs": [
    {
     "data": {
      "text/plain": [
       "시도    경상남도\n",
       "군구     창원시\n",
       "Name: 31, dtype: object"
      ]
     },
     "execution_count": 7,
     "metadata": {},
     "output_type": "execute_result"
    }
   ],
   "source": [
    "addr.iloc[31]"
   ]
  },
  {
   "cell_type": "markdown",
   "metadata": {},
   "source": [
    "#### (2) '경산시'를 찾아서 '경상북도 경산시'로 수정"
   ]
  },
  {
   "cell_type": "code",
   "execution_count": 8,
   "metadata": {},
   "outputs": [
    {
     "data": {
      "text/html": [
       "<div>\n",
       "<style scoped>\n",
       "    .dataframe tbody tr th:only-of-type {\n",
       "        vertical-align: middle;\n",
       "    }\n",
       "\n",
       "    .dataframe tbody tr th {\n",
       "        vertical-align: top;\n",
       "    }\n",
       "\n",
       "    .dataframe thead th {\n",
       "        text-align: right;\n",
       "    }\n",
       "</style>\n",
       "<table border=\"1\" class=\"dataframe\">\n",
       "  <thead>\n",
       "    <tr style=\"text-align: right;\">\n",
       "      <th></th>\n",
       "      <th>시도</th>\n",
       "      <th>군구</th>\n",
       "    </tr>\n",
       "  </thead>\n",
       "  <tbody>\n",
       "    <tr>\n",
       "      <th>47</th>\n",
       "      <td>경산시</td>\n",
       "      <td>경안로</td>\n",
       "    </tr>\n",
       "  </tbody>\n",
       "</table>\n",
       "</div>"
      ],
      "text/plain": [
       "     시도   군구\n",
       "47  경산시  경안로"
      ]
     },
     "execution_count": 8,
     "metadata": {},
     "output_type": "execute_result"
    }
   ],
   "source": [
    "addr[addr['시도'] == '경산시']"
   ]
  },
  {
   "cell_type": "code",
   "execution_count": 9,
   "metadata": {},
   "outputs": [
    {
     "data": {
      "text/plain": [
       "시도    경상북도\n",
       "군구     경산시\n",
       "Name: 47, dtype: object"
      ]
     },
     "execution_count": 9,
     "metadata": {},
     "output_type": "execute_result"
    }
   ],
   "source": [
    "addr.iloc[47] = ['경상북도', '경산시']\n",
    "\n",
    "addr.iloc[47]"
   ]
  },
  {
   "cell_type": "markdown",
   "metadata": {},
   "source": [
    "#### (3) '천안시'를 찾아서 '충청남도 천안시'로 수정"
   ]
  },
  {
   "cell_type": "code",
   "execution_count": 10,
   "metadata": {},
   "outputs": [
    {
     "data": {
      "text/html": [
       "<div>\n",
       "<style scoped>\n",
       "    .dataframe tbody tr th:only-of-type {\n",
       "        vertical-align: middle;\n",
       "    }\n",
       "\n",
       "    .dataframe tbody tr th {\n",
       "        vertical-align: top;\n",
       "    }\n",
       "\n",
       "    .dataframe thead th {\n",
       "        text-align: right;\n",
       "    }\n",
       "</style>\n",
       "<table border=\"1\" class=\"dataframe\">\n",
       "  <thead>\n",
       "    <tr style=\"text-align: right;\">\n",
       "      <th></th>\n",
       "      <th>시도</th>\n",
       "      <th>군구</th>\n",
       "    </tr>\n",
       "  </thead>\n",
       "  <tbody>\n",
       "    <tr>\n",
       "      <th>209</th>\n",
       "      <td>천안시</td>\n",
       "      <td>동남구</td>\n",
       "    </tr>\n",
       "    <tr>\n",
       "      <th>210</th>\n",
       "      <td>천안시</td>\n",
       "      <td>동남구</td>\n",
       "    </tr>\n",
       "  </tbody>\n",
       "</table>\n",
       "</div>"
      ],
      "text/plain": [
       "      시도   군구\n",
       "209  천안시  동남구\n",
       "210  천안시  동남구"
      ]
     },
     "execution_count": 10,
     "metadata": {},
     "output_type": "execute_result"
    }
   ],
   "source": [
    "addr[addr['시도'] == '천안시']"
   ]
  },
  {
   "cell_type": "code",
   "execution_count": 11,
   "metadata": {},
   "outputs": [],
   "source": [
    "## 표준 행정구역 이름으로 수정 : 천안시-> 충청남도 천안시\n",
    "addr.iloc[209] = ['충청남도', '천안시']\n",
    "addr.iloc[210] = ['충청남도', '천안시']"
   ]
  },
  {
   "cell_type": "code",
   "execution_count": 12,
   "metadata": {},
   "outputs": [
    {
     "data": {
      "text/plain": [
       "시도    충청남도\n",
       "군구     천안시\n",
       "Name: 209, dtype: object"
      ]
     },
     "execution_count": 12,
     "metadata": {},
     "output_type": "execute_result"
    }
   ],
   "source": [
    "addr.iloc[209]"
   ]
  },
  {
   "cell_type": "code",
   "execution_count": 13,
   "metadata": {},
   "outputs": [
    {
     "data": {
      "text/plain": [
       "시도    충청남도\n",
       "군구     천안시\n",
       "Name: 210, dtype: object"
      ]
     },
     "execution_count": 13,
     "metadata": {},
     "output_type": "execute_result"
    }
   ],
   "source": [
    "addr.iloc[210]"
   ]
  },
  {
   "cell_type": "code",
   "execution_count": 14,
   "metadata": {},
   "outputs": [
    {
     "data": {
      "text/plain": [
       "array(['강원도', '경기도', '경기', '경남', '경상남도', '경상북도', '경북', '인천광역시', '대구광역시',\n",
       "       '전라남도', '대전광역시', '광주광역시', '제주특별자치도', '부산광역시', '전라북도', '충북',\n",
       "       '서울특별시', '서울시', '부산특별시', '대전시', '충남', '전남', '충청남도', '울산광역시', '전북',\n",
       "       '충청북도'], dtype=object)"
      ]
     },
     "execution_count": 14,
     "metadata": {},
     "output_type": "execute_result"
    }
   ],
   "source": [
    "# 작업 결과 확인하기\n",
    "addr['시도'].unique()"
   ]
  },
  {
   "cell_type": "markdown",
   "metadata": {},
   "source": [
    "### # 시도 이름을 표준이름으로 수정"
   ]
  },
  {
   "cell_type": "code",
   "execution_count": 15,
   "metadata": {},
   "outputs": [],
   "source": [
    "## 표준 행정구역 이름으로 수정 :  경기 -> 경기도, 경남 -> 경상남도, ...\n",
    "addr_aliases = {'경기':'경기도', '경남':'경상남도', '경북':'경상북도', '충북':'충청북도', '서울시':'서울특별시', '부산특별시':'부산광역시', '대전시':'대전광역시', '충남':'충청남도', '전남':'전라남도', '전북':'전라북도'}"
   ]
  },
  {
   "cell_type": "code",
   "execution_count": 16,
   "metadata": {},
   "outputs": [],
   "source": [
    "addr['시도']= addr['시도'].apply(lambda v: addr_aliases.get(v, v))"
   ]
  },
  {
   "cell_type": "code",
   "execution_count": 17,
   "metadata": {},
   "outputs": [
    {
     "data": {
      "text/plain": [
       "array(['강원도', '경기도', '경상남도', '경상북도', '인천광역시', '대구광역시', '전라남도', '대전광역시',\n",
       "       '광주광역시', '제주특별자치도', '부산광역시', '전라북도', '충청북도', '서울특별시', '충청남도',\n",
       "       '울산광역시'], dtype=object)"
      ]
     },
     "execution_count": 17,
     "metadata": {},
     "output_type": "execute_result"
    }
   ],
   "source": [
    "# 작업 결과 확인하기\n",
    "addr['시도'].unique()"
   ]
  },
  {
   "cell_type": "markdown",
   "metadata": {},
   "source": [
    "## 2) 군구 이름 확인하기 "
   ]
  },
  {
   "cell_type": "code",
   "execution_count": 18,
   "metadata": {},
   "outputs": [
    {
     "data": {
      "text/plain": [
       "array(['춘천시', '삼척시', '영월군', '원주시', '강릉시', '속초시', '정선군', '수원시', '이천시',\n",
       "       '안성시', '의정부시', '포천시', '파주시', '용인시', '평택시', '시흥시', '여주시', '남양주시',\n",
       "       '동두천시', '안산시', '부천시', '통영시', '사천시', '창원시', '김해시', '양산시', '거창군',\n",
       "       '남해군', '의령군', '포항시', '김천시', '안동시', '울진군', '경주시', '구미시', '영주시',\n",
       "       '상주시', '문경시', '경산시', '의성군', '청도군', '고령군', '칠곡군', '봉화군', '울릉군',\n",
       "       '부평구', '북구', '순천시', '대덕구', '태백시', '동해시', '화성시', '광산구', '남구', '중구',\n",
       "       '아란13길', '서구', '전주시', '진주시', '청주시', '종로구', '성남시', '동구', '화순군',\n",
       "       '강동구', '사상구', '달서구', '해운대구', '유성구', '가평군', '양주시', '고양시', '홍천군',\n",
       "       '양구군', '청원군', '계룡시', '논산시', '함평군', '양평군', '수성구', '달성군', '연수구',\n",
       "       '노원구', '기장군', '공주시', '강북구', '광진구', '나주시', '창녕군', '목포시', '고흥군',\n",
       "       '연제구', '동매로', '서초구', '은평구', '중랑구', '강남구', '동작구', '동대문구', '양천구',\n",
       "       '성동구', '송파구', '울주군', '계양구', '옹진군', '보성군', '광양시', '영광군', '무안군',\n",
       "       '진도군', '강진군', '곡성군', '여수시', '신안군', '장성군', '완주군', '부안군', '정읍시',\n",
       "       '남원시', '군산시', '고창군', '진안군', '제주시', '서귀포시', '천안시', '보령시', '서산시',\n",
       "       '서천군', '홍성군', '제천시', '충주시', '영동군', '단양군'], dtype=object)"
      ]
     },
     "execution_count": 18,
     "metadata": {},
     "output_type": "execute_result"
    }
   ],
   "source": [
    "addr['군구'].unique()"
   ]
  },
  {
   "cell_type": "markdown",
   "metadata": {},
   "source": [
    "### # 잘못된 군구 이름 수정하기 "
   ]
  },
  {
   "cell_type": "markdown",
   "metadata": {},
   "source": [
    "#### (1) '아란13길' 을 '제주특별자치도'  '제주시'로 수정"
   ]
  },
  {
   "cell_type": "code",
   "execution_count": 19,
   "metadata": {},
   "outputs": [
    {
     "data": {
      "text/html": [
       "<div>\n",
       "<style scoped>\n",
       "    .dataframe tbody tr th:only-of-type {\n",
       "        vertical-align: middle;\n",
       "    }\n",
       "\n",
       "    .dataframe tbody tr th {\n",
       "        vertical-align: top;\n",
       "    }\n",
       "\n",
       "    .dataframe thead th {\n",
       "        text-align: right;\n",
       "    }\n",
       "</style>\n",
       "<table border=\"1\" class=\"dataframe\">\n",
       "  <thead>\n",
       "    <tr style=\"text-align: right;\">\n",
       "      <th></th>\n",
       "      <th>시도</th>\n",
       "      <th>군구</th>\n",
       "    </tr>\n",
       "  </thead>\n",
       "  <tbody>\n",
       "    <tr>\n",
       "      <th>75</th>\n",
       "      <td>제주특별자치도</td>\n",
       "      <td>아란13길</td>\n",
       "    </tr>\n",
       "  </tbody>\n",
       "</table>\n",
       "</div>"
      ],
      "text/plain": [
       "         시도     군구\n",
       "75  제주특별자치도  아란13길"
      ]
     },
     "execution_count": 19,
     "metadata": {},
     "output_type": "execute_result"
    }
   ],
   "source": [
    "addr[addr['군구'] == '아란13길']"
   ]
  },
  {
   "cell_type": "code",
   "execution_count": 20,
   "metadata": {},
   "outputs": [
    {
     "data": {
      "text/plain": [
       "시도    제주특별자치도\n",
       "군구        제주시\n",
       "Name: 75, dtype: object"
      ]
     },
     "execution_count": 20,
     "metadata": {},
     "output_type": "execute_result"
    }
   ],
   "source": [
    "addr.iloc[75] = ['제주특별자치도', '제주시']\n",
    "\n",
    "addr.iloc[75]"
   ]
  },
  {
   "cell_type": "code",
   "execution_count": 21,
   "metadata": {},
   "outputs": [
    {
     "data": {
      "text/plain": [
       "array(['춘천시', '삼척시', '영월군', '원주시', '강릉시', '속초시', '정선군', '수원시', '이천시',\n",
       "       '안성시', '의정부시', '포천시', '파주시', '용인시', '평택시', '시흥시', '여주시', '남양주시',\n",
       "       '동두천시', '안산시', '부천시', '통영시', '사천시', '창원시', '김해시', '양산시', '거창군',\n",
       "       '남해군', '의령군', '포항시', '김천시', '안동시', '울진군', '경주시', '구미시', '영주시',\n",
       "       '상주시', '문경시', '경산시', '의성군', '청도군', '고령군', '칠곡군', '봉화군', '울릉군',\n",
       "       '부평구', '북구', '순천시', '대덕구', '태백시', '동해시', '화성시', '광산구', '남구', '중구',\n",
       "       '제주시', '서구', '전주시', '진주시', '청주시', '종로구', '성남시', '동구', '화순군', '강동구',\n",
       "       '사상구', '달서구', '해운대구', '유성구', '가평군', '양주시', '고양시', '홍천군', '양구군',\n",
       "       '청원군', '계룡시', '논산시', '함평군', '양평군', '수성구', '달성군', '연수구', '노원구',\n",
       "       '기장군', '공주시', '강북구', '광진구', '나주시', '창녕군', '목포시', '고흥군', '연제구',\n",
       "       '동매로', '서초구', '은평구', '중랑구', '강남구', '동작구', '동대문구', '양천구', '성동구',\n",
       "       '송파구', '울주군', '계양구', '옹진군', '보성군', '광양시', '영광군', '무안군', '진도군',\n",
       "       '강진군', '곡성군', '여수시', '신안군', '장성군', '완주군', '부안군', '정읍시', '남원시',\n",
       "       '군산시', '고창군', '진안군', '서귀포시', '천안시', '보령시', '서산시', '서천군', '홍성군',\n",
       "       '제천시', '충주시', '영동군', '단양군'], dtype=object)"
      ]
     },
     "execution_count": 21,
     "metadata": {},
     "output_type": "execute_result"
    }
   ],
   "source": [
    "addr['군구'].unique()"
   ]
  },
  {
   "cell_type": "markdown",
   "metadata": {},
   "source": [
    "## 3) 행정구역별 공공보건의료기관의 수 구하기"
   ]
  },
  {
   "cell_type": "markdown",
   "metadata": {},
   "source": [
    "### (1) '시도' 와 '군구' 컬럼 결합하기"
   ]
  },
  {
   "cell_type": "code",
   "execution_count": 22,
   "metadata": {},
   "outputs": [
    {
     "data": {
      "text/html": [
       "<div>\n",
       "<style scoped>\n",
       "    .dataframe tbody tr th:only-of-type {\n",
       "        vertical-align: middle;\n",
       "    }\n",
       "\n",
       "    .dataframe tbody tr th {\n",
       "        vertical-align: top;\n",
       "    }\n",
       "\n",
       "    .dataframe thead th {\n",
       "        text-align: right;\n",
       "    }\n",
       "</style>\n",
       "<table border=\"1\" class=\"dataframe\">\n",
       "  <thead>\n",
       "    <tr style=\"text-align: right;\">\n",
       "      <th></th>\n",
       "      <th>시도</th>\n",
       "      <th>군구</th>\n",
       "      <th>시도군구</th>\n",
       "    </tr>\n",
       "  </thead>\n",
       "  <tbody>\n",
       "    <tr>\n",
       "      <th>0</th>\n",
       "      <td>강원도</td>\n",
       "      <td>춘천시</td>\n",
       "      <td>강원도 춘천시</td>\n",
       "    </tr>\n",
       "    <tr>\n",
       "      <th>1</th>\n",
       "      <td>강원도</td>\n",
       "      <td>삼척시</td>\n",
       "      <td>강원도 삼척시</td>\n",
       "    </tr>\n",
       "    <tr>\n",
       "      <th>2</th>\n",
       "      <td>강원도</td>\n",
       "      <td>영월군</td>\n",
       "      <td>강원도 영월군</td>\n",
       "    </tr>\n",
       "    <tr>\n",
       "      <th>3</th>\n",
       "      <td>강원도</td>\n",
       "      <td>원주시</td>\n",
       "      <td>강원도 원주시</td>\n",
       "    </tr>\n",
       "    <tr>\n",
       "      <th>4</th>\n",
       "      <td>강원도</td>\n",
       "      <td>강릉시</td>\n",
       "      <td>강원도 강릉시</td>\n",
       "    </tr>\n",
       "  </tbody>\n",
       "</table>\n",
       "</div>"
      ],
      "text/plain": [
       "    시도   군구     시도군구\n",
       "0  강원도  춘천시  강원도 춘천시\n",
       "1  강원도  삼척시  강원도 삼척시\n",
       "2  강원도  영월군  강원도 영월군\n",
       "3  강원도  원주시  강원도 원주시\n",
       "4  강원도  강릉시  강원도 강릉시"
      ]
     },
     "execution_count": 22,
     "metadata": {},
     "output_type": "execute_result"
    }
   ],
   "source": [
    "addr['시도군구'] = addr.apply(lambda r: r['시도'] + ' ' + r['군구'], axis=1)\n",
    "\n",
    "addr.head() #작업 확인용 출력"
   ]
  },
  {
   "cell_type": "code",
   "execution_count": 23,
   "metadata": {
    "scrolled": true
   },
   "outputs": [
    {
     "data": {
      "text/html": [
       "<div>\n",
       "<style scoped>\n",
       "    .dataframe tbody tr th:only-of-type {\n",
       "        vertical-align: middle;\n",
       "    }\n",
       "\n",
       "    .dataframe tbody tr th {\n",
       "        vertical-align: top;\n",
       "    }\n",
       "\n",
       "    .dataframe thead th {\n",
       "        text-align: right;\n",
       "    }\n",
       "</style>\n",
       "<table border=\"1\" class=\"dataframe\">\n",
       "  <thead>\n",
       "    <tr style=\"text-align: right;\">\n",
       "      <th></th>\n",
       "      <th>시도</th>\n",
       "      <th>군구</th>\n",
       "      <th>시도군구</th>\n",
       "      <th>count</th>\n",
       "    </tr>\n",
       "  </thead>\n",
       "  <tbody>\n",
       "    <tr>\n",
       "      <th>0</th>\n",
       "      <td>강원도</td>\n",
       "      <td>춘천시</td>\n",
       "      <td>강원도 춘천시</td>\n",
       "      <td>0</td>\n",
       "    </tr>\n",
       "    <tr>\n",
       "      <th>1</th>\n",
       "      <td>강원도</td>\n",
       "      <td>삼척시</td>\n",
       "      <td>강원도 삼척시</td>\n",
       "      <td>0</td>\n",
       "    </tr>\n",
       "    <tr>\n",
       "      <th>2</th>\n",
       "      <td>강원도</td>\n",
       "      <td>영월군</td>\n",
       "      <td>강원도 영월군</td>\n",
       "      <td>0</td>\n",
       "    </tr>\n",
       "    <tr>\n",
       "      <th>3</th>\n",
       "      <td>강원도</td>\n",
       "      <td>원주시</td>\n",
       "      <td>강원도 원주시</td>\n",
       "      <td>0</td>\n",
       "    </tr>\n",
       "    <tr>\n",
       "      <th>4</th>\n",
       "      <td>강원도</td>\n",
       "      <td>강릉시</td>\n",
       "      <td>강원도 강릉시</td>\n",
       "      <td>0</td>\n",
       "    </tr>\n",
       "  </tbody>\n",
       "</table>\n",
       "</div>"
      ],
      "text/plain": [
       "    시도   군구     시도군구  count\n",
       "0  강원도  춘천시  강원도 춘천시      0\n",
       "1  강원도  삼척시  강원도 삼척시      0\n",
       "2  강원도  영월군  강원도 영월군      0\n",
       "3  강원도  원주시  강원도 원주시      0\n",
       "4  강원도  강릉시  강원도 강릉시      0"
      ]
     },
     "execution_count": 23,
     "metadata": {},
     "output_type": "execute_result"
    }
   ],
   "source": [
    "addr['count'] = 0  # 의료기관수 합계를 저장할 컬럼 만들기\n",
    "\n",
    "addr.head() #작업 확인용 출력"
   ]
  },
  {
   "cell_type": "markdown",
   "metadata": {},
   "source": [
    "### (2) '시도군구' 를 기준으로 그룹을 만들고, 그룹별 의료기관수 합계 구하기"
   ]
  },
  {
   "cell_type": "code",
   "execution_count": 24,
   "metadata": {
    "scrolled": true
   },
   "outputs": [
    {
     "data": {
      "text/html": [
       "<div>\n",
       "<style scoped>\n",
       "    .dataframe tbody tr th:only-of-type {\n",
       "        vertical-align: middle;\n",
       "    }\n",
       "\n",
       "    .dataframe tbody tr th {\n",
       "        vertical-align: top;\n",
       "    }\n",
       "\n",
       "    .dataframe thead th {\n",
       "        text-align: right;\n",
       "    }\n",
       "</style>\n",
       "<table border=\"1\" class=\"dataframe\">\n",
       "  <thead>\n",
       "    <tr style=\"text-align: right;\">\n",
       "      <th></th>\n",
       "      <th>시도</th>\n",
       "      <th>군구</th>\n",
       "      <th>시도군구</th>\n",
       "      <th>count</th>\n",
       "    </tr>\n",
       "  </thead>\n",
       "  <tbody>\n",
       "    <tr>\n",
       "      <th>0</th>\n",
       "      <td>강원도</td>\n",
       "      <td>강릉시</td>\n",
       "      <td>강원도 강릉시</td>\n",
       "      <td>4</td>\n",
       "    </tr>\n",
       "    <tr>\n",
       "      <th>1</th>\n",
       "      <td>강원도</td>\n",
       "      <td>동해시</td>\n",
       "      <td>강원도 동해시</td>\n",
       "      <td>1</td>\n",
       "    </tr>\n",
       "    <tr>\n",
       "      <th>2</th>\n",
       "      <td>강원도</td>\n",
       "      <td>삼척시</td>\n",
       "      <td>강원도 삼척시</td>\n",
       "      <td>1</td>\n",
       "    </tr>\n",
       "    <tr>\n",
       "      <th>3</th>\n",
       "      <td>강원도</td>\n",
       "      <td>속초시</td>\n",
       "      <td>강원도 속초시</td>\n",
       "      <td>1</td>\n",
       "    </tr>\n",
       "    <tr>\n",
       "      <th>4</th>\n",
       "      <td>강원도</td>\n",
       "      <td>양구군</td>\n",
       "      <td>강원도 양구군</td>\n",
       "      <td>1</td>\n",
       "    </tr>\n",
       "  </tbody>\n",
       "</table>\n",
       "</div>"
      ],
      "text/plain": [
       "    시도   군구     시도군구  count\n",
       "0  강원도  강릉시  강원도 강릉시      4\n",
       "1  강원도  동해시  강원도 동해시      1\n",
       "2  강원도  삼척시  강원도 삼척시      1\n",
       "3  강원도  속초시  강원도 속초시      1\n",
       "4  강원도  양구군  강원도 양구군      1"
      ]
     },
     "execution_count": 24,
     "metadata": {},
     "output_type": "execute_result"
    }
   ],
   "source": [
    "#addr_group =pd.DataFrame(addr.groupby(['시도', '군구', '시도군구'], as_index=False).count())\n",
    "addr_group = addr.groupby(['시도', '군구', '시도군구']).size().reset_index(name='count')\n",
    "\n",
    "\n",
    "\n",
    "addr_group.head()  #작업 확인용 출력"
   ]
  },
  {
   "cell_type": "markdown",
   "metadata": {},
   "source": [
    "### (3) 데이터 병합에 사용할 인덱스 설정하기"
   ]
  },
  {
   "cell_type": "code",
   "execution_count": 25,
   "metadata": {},
   "outputs": [
    {
     "data": {
      "text/html": [
       "<div>\n",
       "<style scoped>\n",
       "    .dataframe tbody tr th:only-of-type {\n",
       "        vertical-align: middle;\n",
       "    }\n",
       "\n",
       "    .dataframe tbody tr th {\n",
       "        vertical-align: top;\n",
       "    }\n",
       "\n",
       "    .dataframe thead th {\n",
       "        text-align: right;\n",
       "    }\n",
       "</style>\n",
       "<table border=\"1\" class=\"dataframe\">\n",
       "  <thead>\n",
       "    <tr style=\"text-align: right;\">\n",
       "      <th></th>\n",
       "      <th>시도</th>\n",
       "      <th>군구</th>\n",
       "      <th>count</th>\n",
       "    </tr>\n",
       "    <tr>\n",
       "      <th>시도군구</th>\n",
       "      <th></th>\n",
       "      <th></th>\n",
       "      <th></th>\n",
       "    </tr>\n",
       "  </thead>\n",
       "  <tbody>\n",
       "    <tr>\n",
       "      <th>강원도 강릉시</th>\n",
       "      <td>강원도</td>\n",
       "      <td>강릉시</td>\n",
       "      <td>4</td>\n",
       "    </tr>\n",
       "    <tr>\n",
       "      <th>강원도 동해시</th>\n",
       "      <td>강원도</td>\n",
       "      <td>동해시</td>\n",
       "      <td>1</td>\n",
       "    </tr>\n",
       "    <tr>\n",
       "      <th>강원도 삼척시</th>\n",
       "      <td>강원도</td>\n",
       "      <td>삼척시</td>\n",
       "      <td>1</td>\n",
       "    </tr>\n",
       "    <tr>\n",
       "      <th>강원도 속초시</th>\n",
       "      <td>강원도</td>\n",
       "      <td>속초시</td>\n",
       "      <td>1</td>\n",
       "    </tr>\n",
       "    <tr>\n",
       "      <th>강원도 양구군</th>\n",
       "      <td>강원도</td>\n",
       "      <td>양구군</td>\n",
       "      <td>1</td>\n",
       "    </tr>\n",
       "  </tbody>\n",
       "</table>\n",
       "</div>"
      ],
      "text/plain": [
       "          시도   군구  count\n",
       "시도군구                    \n",
       "강원도 강릉시  강원도  강릉시      4\n",
       "강원도 동해시  강원도  동해시      1\n",
       "강원도 삼척시  강원도  삼척시      1\n",
       "강원도 속초시  강원도  속초시      1\n",
       "강원도 양구군  강원도  양구군      1"
      ]
     },
     "execution_count": 25,
     "metadata": {},
     "output_type": "execute_result"
    }
   ],
   "source": [
    "addr_group = addr_group.set_index(\"시도군구\")\n",
    "\n",
    "addr_group.head()   #작업 확인용 출력"
   ]
  },
  {
   "cell_type": "markdown",
   "metadata": {},
   "source": [
    "## 4) 행정구역 인구수 컬럼 추가하기"
   ]
  },
  {
   "cell_type": "markdown",
   "metadata": {},
   "source": [
    "####   (1) 행정구역 이름 데이터 불러오기 : 행정구역_시군구_별__성별_인구수_2.xlsx"
   ]
  },
  {
   "cell_type": "code",
   "execution_count": 26,
   "metadata": {},
   "outputs": [
    {
     "data": {
      "text/html": [
       "<div>\n",
       "<style scoped>\n",
       "    .dataframe tbody tr th:only-of-type {\n",
       "        vertical-align: middle;\n",
       "    }\n",
       "\n",
       "    .dataframe tbody tr th {\n",
       "        vertical-align: top;\n",
       "    }\n",
       "\n",
       "    .dataframe thead th {\n",
       "        text-align: right;\n",
       "    }\n",
       "</style>\n",
       "<table border=\"1\" class=\"dataframe\">\n",
       "  <thead>\n",
       "    <tr style=\"text-align: right;\">\n",
       "      <th></th>\n",
       "      <th>행정구역(시군구)별(1)</th>\n",
       "      <th>행정구역(시군구)별(2)</th>\n",
       "      <th>총인구수 (명)</th>\n",
       "      <th>남자인구수 (명)</th>\n",
       "      <th>여자인구수 (명)</th>\n",
       "    </tr>\n",
       "  </thead>\n",
       "  <tbody>\n",
       "    <tr>\n",
       "      <th>0</th>\n",
       "      <td>전국</td>\n",
       "      <td>소계</td>\n",
       "      <td>51632473</td>\n",
       "      <td>25742528</td>\n",
       "      <td>25889945</td>\n",
       "    </tr>\n",
       "    <tr>\n",
       "      <th>1</th>\n",
       "      <td>서울특별시</td>\n",
       "      <td>소계</td>\n",
       "      <td>9505926</td>\n",
       "      <td>4615631</td>\n",
       "      <td>4890295</td>\n",
       "    </tr>\n",
       "    <tr>\n",
       "      <th>2</th>\n",
       "      <td>서울특별시</td>\n",
       "      <td>종로구</td>\n",
       "      <td>144543</td>\n",
       "      <td>70117</td>\n",
       "      <td>74426</td>\n",
       "    </tr>\n",
       "    <tr>\n",
       "      <th>3</th>\n",
       "      <td>서울특별시</td>\n",
       "      <td>중구</td>\n",
       "      <td>122315</td>\n",
       "      <td>59510</td>\n",
       "      <td>62805</td>\n",
       "    </tr>\n",
       "    <tr>\n",
       "      <th>4</th>\n",
       "      <td>서울특별시</td>\n",
       "      <td>용산구</td>\n",
       "      <td>222573</td>\n",
       "      <td>107050</td>\n",
       "      <td>115523</td>\n",
       "    </tr>\n",
       "  </tbody>\n",
       "</table>\n",
       "</div>"
      ],
      "text/plain": [
       "  행정구역(시군구)별(1) 행정구역(시군구)별(2)  총인구수 (명)  남자인구수 (명)  여자인구수 (명)\n",
       "0            전국            소계  51632473   25742528   25889945\n",
       "1         서울특별시            소계   9505926    4615631    4890295\n",
       "2         서울특별시        　　　종로구    144543      70117      74426\n",
       "3         서울특별시         　　　중구    122315      59510      62805\n",
       "4         서울특별시        　　　용산구    222573     107050     115523"
      ]
     },
     "execution_count": 26,
     "metadata": {},
     "output_type": "execute_result"
    }
   ],
   "source": [
    "population = pd.read_excel('행정구역_시군구_별__성별_인구수_2.xlsx')\n",
    "\n",
    "population.head()    #작업 확인용 출력"
   ]
  },
  {
   "cell_type": "code",
   "execution_count": 27,
   "metadata": {},
   "outputs": [
    {
     "data": {
      "text/html": [
       "<div>\n",
       "<style scoped>\n",
       "    .dataframe tbody tr th:only-of-type {\n",
       "        vertical-align: middle;\n",
       "    }\n",
       "\n",
       "    .dataframe tbody tr th {\n",
       "        vertical-align: top;\n",
       "    }\n",
       "\n",
       "    .dataframe thead th {\n",
       "        text-align: right;\n",
       "    }\n",
       "</style>\n",
       "<table border=\"1\" class=\"dataframe\">\n",
       "  <thead>\n",
       "    <tr style=\"text-align: right;\">\n",
       "      <th></th>\n",
       "      <th>시도</th>\n",
       "      <th>군구</th>\n",
       "      <th>총인구수 (명)</th>\n",
       "      <th>남자인구수 (명)</th>\n",
       "      <th>여자인구수 (명)</th>\n",
       "    </tr>\n",
       "  </thead>\n",
       "  <tbody>\n",
       "    <tr>\n",
       "      <th>0</th>\n",
       "      <td>전국</td>\n",
       "      <td>소계</td>\n",
       "      <td>51632473</td>\n",
       "      <td>25742528</td>\n",
       "      <td>25889945</td>\n",
       "    </tr>\n",
       "    <tr>\n",
       "      <th>1</th>\n",
       "      <td>서울특별시</td>\n",
       "      <td>소계</td>\n",
       "      <td>9505926</td>\n",
       "      <td>4615631</td>\n",
       "      <td>4890295</td>\n",
       "    </tr>\n",
       "    <tr>\n",
       "      <th>2</th>\n",
       "      <td>서울특별시</td>\n",
       "      <td>종로구</td>\n",
       "      <td>144543</td>\n",
       "      <td>70117</td>\n",
       "      <td>74426</td>\n",
       "    </tr>\n",
       "    <tr>\n",
       "      <th>3</th>\n",
       "      <td>서울특별시</td>\n",
       "      <td>중구</td>\n",
       "      <td>122315</td>\n",
       "      <td>59510</td>\n",
       "      <td>62805</td>\n",
       "    </tr>\n",
       "    <tr>\n",
       "      <th>4</th>\n",
       "      <td>서울특별시</td>\n",
       "      <td>용산구</td>\n",
       "      <td>222573</td>\n",
       "      <td>107050</td>\n",
       "      <td>115523</td>\n",
       "    </tr>\n",
       "  </tbody>\n",
       "</table>\n",
       "</div>"
      ],
      "text/plain": [
       "      시도      군구  총인구수 (명)  남자인구수 (명)  여자인구수 (명)\n",
       "0     전국      소계  51632473   25742528   25889945\n",
       "1  서울특별시      소계   9505926    4615631    4890295\n",
       "2  서울특별시  　　　종로구    144543      70117      74426\n",
       "3  서울특별시   　　　중구    122315      59510      62805\n",
       "4  서울특별시  　　　용산구    222573     107050     115523"
      ]
     },
     "execution_count": 27,
     "metadata": {},
     "output_type": "execute_result"
    }
   ],
   "source": [
    "population = population.rename(columns = {'행정구역(시군구)별(1)': '시도', '행정구역(시군구)별(2)': '군구'}) #컬럼이름 변경\n",
    "\n",
    "population.head()  #작업 확인용 출력"
   ]
  },
  {
   "cell_type": "markdown",
   "metadata": {},
   "source": [
    "####   (2) 병합에 사용할 공통 컬럼 '시도군구' 추가하기"
   ]
  },
  {
   "cell_type": "code",
   "execution_count": 28,
   "metadata": {},
   "outputs": [],
   "source": [
    "# '군구' 컬럼에서 공백 제거하기\n",
    "for element in range(0,len(population)):\n",
    "      population['군구'][element] = population['군구'][element].strip()"
   ]
  },
  {
   "cell_type": "code",
   "execution_count": 29,
   "metadata": {},
   "outputs": [
    {
     "data": {
      "text/html": [
       "<div>\n",
       "<style scoped>\n",
       "    .dataframe tbody tr th:only-of-type {\n",
       "        vertical-align: middle;\n",
       "    }\n",
       "\n",
       "    .dataframe tbody tr th {\n",
       "        vertical-align: top;\n",
       "    }\n",
       "\n",
       "    .dataframe thead th {\n",
       "        text-align: right;\n",
       "    }\n",
       "</style>\n",
       "<table border=\"1\" class=\"dataframe\">\n",
       "  <thead>\n",
       "    <tr style=\"text-align: right;\">\n",
       "      <th></th>\n",
       "      <th>시도</th>\n",
       "      <th>군구</th>\n",
       "      <th>총인구수 (명)</th>\n",
       "      <th>남자인구수 (명)</th>\n",
       "      <th>여자인구수 (명)</th>\n",
       "      <th>시도군구</th>\n",
       "    </tr>\n",
       "  </thead>\n",
       "  <tbody>\n",
       "    <tr>\n",
       "      <th>0</th>\n",
       "      <td>전국</td>\n",
       "      <td>소계</td>\n",
       "      <td>51632473</td>\n",
       "      <td>25742528</td>\n",
       "      <td>25889945</td>\n",
       "      <td>전국 소계</td>\n",
       "    </tr>\n",
       "    <tr>\n",
       "      <th>1</th>\n",
       "      <td>서울특별시</td>\n",
       "      <td>소계</td>\n",
       "      <td>9505926</td>\n",
       "      <td>4615631</td>\n",
       "      <td>4890295</td>\n",
       "      <td>서울특별시 소계</td>\n",
       "    </tr>\n",
       "    <tr>\n",
       "      <th>2</th>\n",
       "      <td>서울특별시</td>\n",
       "      <td>종로구</td>\n",
       "      <td>144543</td>\n",
       "      <td>70117</td>\n",
       "      <td>74426</td>\n",
       "      <td>서울특별시 종로구</td>\n",
       "    </tr>\n",
       "    <tr>\n",
       "      <th>3</th>\n",
       "      <td>서울특별시</td>\n",
       "      <td>중구</td>\n",
       "      <td>122315</td>\n",
       "      <td>59510</td>\n",
       "      <td>62805</td>\n",
       "      <td>서울특별시 중구</td>\n",
       "    </tr>\n",
       "    <tr>\n",
       "      <th>4</th>\n",
       "      <td>서울특별시</td>\n",
       "      <td>용산구</td>\n",
       "      <td>222573</td>\n",
       "      <td>107050</td>\n",
       "      <td>115523</td>\n",
       "      <td>서울특별시 용산구</td>\n",
       "    </tr>\n",
       "  </tbody>\n",
       "</table>\n",
       "</div>"
      ],
      "text/plain": [
       "      시도   군구  총인구수 (명)  남자인구수 (명)  여자인구수 (명)       시도군구\n",
       "0     전국   소계  51632473   25742528   25889945      전국 소계\n",
       "1  서울특별시   소계   9505926    4615631    4890295   서울특별시 소계\n",
       "2  서울특별시  종로구    144543      70117      74426  서울특별시 종로구\n",
       "3  서울특별시   중구    122315      59510      62805   서울특별시 중구\n",
       "4  서울특별시  용산구    222573     107050     115523  서울특별시 용산구"
      ]
     },
     "execution_count": 29,
     "metadata": {},
     "output_type": "execute_result"
    }
   ],
   "source": [
    "# '시도'와 '군구'를 연결하여 '시도군구' 컬럼 추가\n",
    "population['시도군구']= population.apply(lambda r: r['시도'] + ' ' + r['군구'], axis=1)\n",
    "\n",
    "population.head()  #작업 확인용 출력"
   ]
  },
  {
   "cell_type": "markdown",
   "metadata": {},
   "source": [
    "##### -  필요없는  '소계' 행 삭제"
   ]
  },
  {
   "cell_type": "code",
   "execution_count": 30,
   "metadata": {},
   "outputs": [
    {
     "data": {
      "text/html": [
       "<div>\n",
       "<style scoped>\n",
       "    .dataframe tbody tr th:only-of-type {\n",
       "        vertical-align: middle;\n",
       "    }\n",
       "\n",
       "    .dataframe tbody tr th {\n",
       "        vertical-align: top;\n",
       "    }\n",
       "\n",
       "    .dataframe thead th {\n",
       "        text-align: right;\n",
       "    }\n",
       "</style>\n",
       "<table border=\"1\" class=\"dataframe\">\n",
       "  <thead>\n",
       "    <tr style=\"text-align: right;\">\n",
       "      <th></th>\n",
       "      <th>시도</th>\n",
       "      <th>군구</th>\n",
       "      <th>총인구수 (명)</th>\n",
       "      <th>남자인구수 (명)</th>\n",
       "      <th>여자인구수 (명)</th>\n",
       "      <th>시도군구</th>\n",
       "    </tr>\n",
       "  </thead>\n",
       "  <tbody>\n",
       "    <tr>\n",
       "      <th>2</th>\n",
       "      <td>서울특별시</td>\n",
       "      <td>종로구</td>\n",
       "      <td>144543</td>\n",
       "      <td>70117</td>\n",
       "      <td>74426</td>\n",
       "      <td>서울특별시 종로구</td>\n",
       "    </tr>\n",
       "    <tr>\n",
       "      <th>3</th>\n",
       "      <td>서울특별시</td>\n",
       "      <td>중구</td>\n",
       "      <td>122315</td>\n",
       "      <td>59510</td>\n",
       "      <td>62805</td>\n",
       "      <td>서울특별시 중구</td>\n",
       "    </tr>\n",
       "    <tr>\n",
       "      <th>4</th>\n",
       "      <td>서울특별시</td>\n",
       "      <td>용산구</td>\n",
       "      <td>222573</td>\n",
       "      <td>107050</td>\n",
       "      <td>115523</td>\n",
       "      <td>서울특별시 용산구</td>\n",
       "    </tr>\n",
       "    <tr>\n",
       "      <th>5</th>\n",
       "      <td>서울특별시</td>\n",
       "      <td>성동구</td>\n",
       "      <td>285516</td>\n",
       "      <td>139135</td>\n",
       "      <td>146381</td>\n",
       "      <td>서울특별시 성동구</td>\n",
       "    </tr>\n",
       "    <tr>\n",
       "      <th>6</th>\n",
       "      <td>서울특별시</td>\n",
       "      <td>광진구</td>\n",
       "      <td>340002</td>\n",
       "      <td>163993</td>\n",
       "      <td>176009</td>\n",
       "      <td>서울특별시 광진구</td>\n",
       "    </tr>\n",
       "  </tbody>\n",
       "</table>\n",
       "</div>"
      ],
      "text/plain": [
       "      시도   군구  총인구수 (명)  남자인구수 (명)  여자인구수 (명)       시도군구\n",
       "2  서울특별시  종로구    144543      70117      74426  서울특별시 종로구\n",
       "3  서울특별시   중구    122315      59510      62805   서울특별시 중구\n",
       "4  서울특별시  용산구    222573     107050     115523  서울특별시 용산구\n",
       "5  서울특별시  성동구    285516     139135     146381  서울특별시 성동구\n",
       "6  서울특별시  광진구    340002     163993     176009  서울특별시 광진구"
      ]
     },
     "execution_count": 30,
     "metadata": {},
     "output_type": "execute_result"
    }
   ],
   "source": [
    "population = population[population.군구 != '소계']\n",
    "\n",
    "population.head()  #작업 확인용 출력"
   ]
  },
  {
   "cell_type": "markdown",
   "metadata": {},
   "source": [
    "####   (3) 병합의 기준이 될 인덱스를 '시도군구'로 설정"
   ]
  },
  {
   "cell_type": "code",
   "execution_count": 31,
   "metadata": {},
   "outputs": [
    {
     "data": {
      "text/html": [
       "<div>\n",
       "<style scoped>\n",
       "    .dataframe tbody tr th:only-of-type {\n",
       "        vertical-align: middle;\n",
       "    }\n",
       "\n",
       "    .dataframe tbody tr th {\n",
       "        vertical-align: top;\n",
       "    }\n",
       "\n",
       "    .dataframe thead th {\n",
       "        text-align: right;\n",
       "    }\n",
       "</style>\n",
       "<table border=\"1\" class=\"dataframe\">\n",
       "  <thead>\n",
       "    <tr style=\"text-align: right;\">\n",
       "      <th></th>\n",
       "      <th>시도</th>\n",
       "      <th>군구</th>\n",
       "      <th>총인구수 (명)</th>\n",
       "      <th>남자인구수 (명)</th>\n",
       "      <th>여자인구수 (명)</th>\n",
       "    </tr>\n",
       "    <tr>\n",
       "      <th>시도군구</th>\n",
       "      <th></th>\n",
       "      <th></th>\n",
       "      <th></th>\n",
       "      <th></th>\n",
       "      <th></th>\n",
       "    </tr>\n",
       "  </thead>\n",
       "  <tbody>\n",
       "    <tr>\n",
       "      <th>서울특별시 종로구</th>\n",
       "      <td>서울특별시</td>\n",
       "      <td>종로구</td>\n",
       "      <td>144543</td>\n",
       "      <td>70117</td>\n",
       "      <td>74426</td>\n",
       "    </tr>\n",
       "    <tr>\n",
       "      <th>서울특별시 중구</th>\n",
       "      <td>서울특별시</td>\n",
       "      <td>중구</td>\n",
       "      <td>122315</td>\n",
       "      <td>59510</td>\n",
       "      <td>62805</td>\n",
       "    </tr>\n",
       "    <tr>\n",
       "      <th>서울특별시 용산구</th>\n",
       "      <td>서울특별시</td>\n",
       "      <td>용산구</td>\n",
       "      <td>222573</td>\n",
       "      <td>107050</td>\n",
       "      <td>115523</td>\n",
       "    </tr>\n",
       "    <tr>\n",
       "      <th>서울특별시 성동구</th>\n",
       "      <td>서울특별시</td>\n",
       "      <td>성동구</td>\n",
       "      <td>285516</td>\n",
       "      <td>139135</td>\n",
       "      <td>146381</td>\n",
       "    </tr>\n",
       "    <tr>\n",
       "      <th>서울특별시 광진구</th>\n",
       "      <td>서울특별시</td>\n",
       "      <td>광진구</td>\n",
       "      <td>340002</td>\n",
       "      <td>163993</td>\n",
       "      <td>176009</td>\n",
       "    </tr>\n",
       "  </tbody>\n",
       "</table>\n",
       "</div>"
      ],
      "text/plain": [
       "              시도   군구  총인구수 (명)  남자인구수 (명)  여자인구수 (명)\n",
       "시도군구                                                 \n",
       "서울특별시 종로구  서울특별시  종로구    144543      70117      74426\n",
       "서울특별시 중구   서울특별시   중구    122315      59510      62805\n",
       "서울특별시 용산구  서울특별시  용산구    222573     107050     115523\n",
       "서울특별시 성동구  서울특별시  성동구    285516     139135     146381\n",
       "서울특별시 광진구  서울특별시  광진구    340002     163993     176009"
      ]
     },
     "execution_count": 31,
     "metadata": {},
     "output_type": "execute_result"
    }
   ],
   "source": [
    "population = population.set_index(\"시도군구\")\n",
    "\n",
    "population.head()  #작업 확인용 출력"
   ]
  },
  {
   "cell_type": "markdown",
   "metadata": {},
   "source": [
    "## 5) '의료기관' 데이터프레임과 '시도군구별 인구수' 데이터프레임 병합하기 "
   ]
  },
  {
   "cell_type": "code",
   "execution_count": 32,
   "metadata": {
    "scrolled": true
   },
   "outputs": [
    {
     "data": {
      "text/html": [
       "<div>\n",
       "<style scoped>\n",
       "    .dataframe tbody tr th:only-of-type {\n",
       "        vertical-align: middle;\n",
       "    }\n",
       "\n",
       "    .dataframe tbody tr th {\n",
       "        vertical-align: top;\n",
       "    }\n",
       "\n",
       "    .dataframe thead th {\n",
       "        text-align: right;\n",
       "    }\n",
       "</style>\n",
       "<table border=\"1\" class=\"dataframe\">\n",
       "  <thead>\n",
       "    <tr style=\"text-align: right;\">\n",
       "      <th></th>\n",
       "      <th>시도_x</th>\n",
       "      <th>군구_x</th>\n",
       "      <th>count</th>\n",
       "      <th>시도_y</th>\n",
       "      <th>군구_y</th>\n",
       "      <th>총인구수 (명)</th>\n",
       "      <th>남자인구수 (명)</th>\n",
       "      <th>여자인구수 (명)</th>\n",
       "    </tr>\n",
       "    <tr>\n",
       "      <th>시도군구</th>\n",
       "      <th></th>\n",
       "      <th></th>\n",
       "      <th></th>\n",
       "      <th></th>\n",
       "      <th></th>\n",
       "      <th></th>\n",
       "      <th></th>\n",
       "      <th></th>\n",
       "    </tr>\n",
       "  </thead>\n",
       "  <tbody>\n",
       "    <tr>\n",
       "      <th>경기도 가평군</th>\n",
       "      <td>경기도</td>\n",
       "      <td>가평군</td>\n",
       "      <td>1</td>\n",
       "      <td>경기도</td>\n",
       "      <td>가평군</td>\n",
       "      <td>62291</td>\n",
       "      <td>32135</td>\n",
       "      <td>30156</td>\n",
       "    </tr>\n",
       "    <tr>\n",
       "      <th>경기도 고양시</th>\n",
       "      <td>경기도</td>\n",
       "      <td>고양시</td>\n",
       "      <td>4</td>\n",
       "      <td>경기도</td>\n",
       "      <td>고양시</td>\n",
       "      <td>1078924</td>\n",
       "      <td>527754</td>\n",
       "      <td>551170</td>\n",
       "    </tr>\n",
       "    <tr>\n",
       "      <th>경기도 남양주시</th>\n",
       "      <td>경기도</td>\n",
       "      <td>남양주시</td>\n",
       "      <td>5</td>\n",
       "      <td>경기도</td>\n",
       "      <td>남양주시</td>\n",
       "      <td>734013</td>\n",
       "      <td>365168</td>\n",
       "      <td>368845</td>\n",
       "    </tr>\n",
       "    <tr>\n",
       "      <th>경기도 동두천시</th>\n",
       "      <td>경기도</td>\n",
       "      <td>동두천시</td>\n",
       "      <td>1</td>\n",
       "      <td>경기도</td>\n",
       "      <td>동두천시</td>\n",
       "      <td>93527</td>\n",
       "      <td>46663</td>\n",
       "      <td>46864</td>\n",
       "    </tr>\n",
       "    <tr>\n",
       "      <th>경기도 부천시</th>\n",
       "      <td>경기도</td>\n",
       "      <td>부천시</td>\n",
       "      <td>1</td>\n",
       "      <td>경기도</td>\n",
       "      <td>부천시</td>\n",
       "      <td>804990</td>\n",
       "      <td>398884</td>\n",
       "      <td>406106</td>\n",
       "    </tr>\n",
       "  </tbody>\n",
       "</table>\n",
       "</div>"
      ],
      "text/plain": [
       "         시도_x  군구_x  count 시도_y  군구_y  총인구수 (명)  남자인구수 (명)  여자인구수 (명)\n",
       "시도군구                                                                 \n",
       "경기도 가평군   경기도   가평군      1  경기도   가평군     62291      32135      30156\n",
       "경기도 고양시   경기도   고양시      4  경기도   고양시   1078924     527754     551170\n",
       "경기도 남양주시  경기도  남양주시      5  경기도  남양주시    734013     365168     368845\n",
       "경기도 동두천시  경기도  동두천시      1  경기도  동두천시     93527      46663      46864\n",
       "경기도 부천시   경기도   부천시      1  경기도   부천시    804990     398884     406106"
      ]
     },
     "execution_count": 32,
     "metadata": {},
     "output_type": "execute_result"
    }
   ],
   "source": [
    "addr_population_merge = pd.merge(addr_group,population,  how='inner',  left_index=True, right_index=True)\n",
    "\n",
    "addr_population_merge.head()   #작업 확인용 출력"
   ]
  },
  {
   "cell_type": "markdown",
   "metadata": {},
   "source": [
    "##### -필요한 컬럼만 추출하기"
   ]
  },
  {
   "cell_type": "code",
   "execution_count": 33,
   "metadata": {},
   "outputs": [
    {
     "data": {
      "text/html": [
       "<div>\n",
       "<style scoped>\n",
       "    .dataframe tbody tr th:only-of-type {\n",
       "        vertical-align: middle;\n",
       "    }\n",
       "\n",
       "    .dataframe tbody tr th {\n",
       "        vertical-align: top;\n",
       "    }\n",
       "\n",
       "    .dataframe thead th {\n",
       "        text-align: right;\n",
       "    }\n",
       "</style>\n",
       "<table border=\"1\" class=\"dataframe\">\n",
       "  <thead>\n",
       "    <tr style=\"text-align: right;\">\n",
       "      <th></th>\n",
       "      <th>시도_x</th>\n",
       "      <th>군구_x</th>\n",
       "      <th>count</th>\n",
       "      <th>총인구수 (명)</th>\n",
       "    </tr>\n",
       "    <tr>\n",
       "      <th>시도군구</th>\n",
       "      <th></th>\n",
       "      <th></th>\n",
       "      <th></th>\n",
       "      <th></th>\n",
       "    </tr>\n",
       "  </thead>\n",
       "  <tbody>\n",
       "    <tr>\n",
       "      <th>경기도 가평군</th>\n",
       "      <td>경기도</td>\n",
       "      <td>가평군</td>\n",
       "      <td>1</td>\n",
       "      <td>62291</td>\n",
       "    </tr>\n",
       "    <tr>\n",
       "      <th>경기도 고양시</th>\n",
       "      <td>경기도</td>\n",
       "      <td>고양시</td>\n",
       "      <td>4</td>\n",
       "      <td>1078924</td>\n",
       "    </tr>\n",
       "    <tr>\n",
       "      <th>경기도 남양주시</th>\n",
       "      <td>경기도</td>\n",
       "      <td>남양주시</td>\n",
       "      <td>5</td>\n",
       "      <td>734013</td>\n",
       "    </tr>\n",
       "    <tr>\n",
       "      <th>경기도 동두천시</th>\n",
       "      <td>경기도</td>\n",
       "      <td>동두천시</td>\n",
       "      <td>1</td>\n",
       "      <td>93527</td>\n",
       "    </tr>\n",
       "    <tr>\n",
       "      <th>경기도 부천시</th>\n",
       "      <td>경기도</td>\n",
       "      <td>부천시</td>\n",
       "      <td>1</td>\n",
       "      <td>804990</td>\n",
       "    </tr>\n",
       "  </tbody>\n",
       "</table>\n",
       "</div>"
      ],
      "text/plain": [
       "         시도_x  군구_x  count  총인구수 (명)\n",
       "시도군구                                \n",
       "경기도 가평군   경기도   가평군      1     62291\n",
       "경기도 고양시   경기도   고양시      4   1078924\n",
       "경기도 남양주시  경기도  남양주시      5    734013\n",
       "경기도 동두천시  경기도  동두천시      1     93527\n",
       "경기도 부천시   경기도   부천시      1    804990"
      ]
     },
     "execution_count": 33,
     "metadata": {},
     "output_type": "execute_result"
    }
   ],
   "source": [
    "local_MC_Population = addr_population_merge[['시도_x', '군구_x',  'count', '총인구수 (명)']]\n",
    "\n",
    "local_MC_Population.head()   #작업 확인용 출력  "
   ]
  },
  {
   "cell_type": "code",
   "execution_count": 34,
   "metadata": {},
   "outputs": [
    {
     "data": {
      "text/html": [
       "<div>\n",
       "<style scoped>\n",
       "    .dataframe tbody tr th:only-of-type {\n",
       "        vertical-align: middle;\n",
       "    }\n",
       "\n",
       "    .dataframe tbody tr th {\n",
       "        vertical-align: top;\n",
       "    }\n",
       "\n",
       "    .dataframe thead th {\n",
       "        text-align: right;\n",
       "    }\n",
       "</style>\n",
       "<table border=\"1\" class=\"dataframe\">\n",
       "  <thead>\n",
       "    <tr style=\"text-align: right;\">\n",
       "      <th></th>\n",
       "      <th>시도</th>\n",
       "      <th>군구</th>\n",
       "      <th>count</th>\n",
       "      <th>인구수</th>\n",
       "    </tr>\n",
       "    <tr>\n",
       "      <th>시도군구</th>\n",
       "      <th></th>\n",
       "      <th></th>\n",
       "      <th></th>\n",
       "      <th></th>\n",
       "    </tr>\n",
       "  </thead>\n",
       "  <tbody>\n",
       "    <tr>\n",
       "      <th>경기도 가평군</th>\n",
       "      <td>경기도</td>\n",
       "      <td>가평군</td>\n",
       "      <td>1</td>\n",
       "      <td>62291</td>\n",
       "    </tr>\n",
       "    <tr>\n",
       "      <th>경기도 고양시</th>\n",
       "      <td>경기도</td>\n",
       "      <td>고양시</td>\n",
       "      <td>4</td>\n",
       "      <td>1078924</td>\n",
       "    </tr>\n",
       "    <tr>\n",
       "      <th>경기도 남양주시</th>\n",
       "      <td>경기도</td>\n",
       "      <td>남양주시</td>\n",
       "      <td>5</td>\n",
       "      <td>734013</td>\n",
       "    </tr>\n",
       "    <tr>\n",
       "      <th>경기도 동두천시</th>\n",
       "      <td>경기도</td>\n",
       "      <td>동두천시</td>\n",
       "      <td>1</td>\n",
       "      <td>93527</td>\n",
       "    </tr>\n",
       "    <tr>\n",
       "      <th>경기도 부천시</th>\n",
       "      <td>경기도</td>\n",
       "      <td>부천시</td>\n",
       "      <td>1</td>\n",
       "      <td>804990</td>\n",
       "    </tr>\n",
       "  </tbody>\n",
       "</table>\n",
       "</div>"
      ],
      "text/plain": [
       "           시도    군구  count      인구수\n",
       "시도군구                               \n",
       "경기도 가평군   경기도   가평군      1    62291\n",
       "경기도 고양시   경기도   고양시      4  1078924\n",
       "경기도 남양주시  경기도  남양주시      5   734013\n",
       "경기도 동두천시  경기도  동두천시      1    93527\n",
       "경기도 부천시   경기도   부천시      1   804990"
      ]
     },
     "execution_count": 34,
     "metadata": {},
     "output_type": "execute_result"
    }
   ],
   "source": [
    " #컬럼이름 변경\n",
    "local_MC_Population = local_MC_Population.rename(columns = {'시도_x': '시도', '군구_x': '군구','총인구수 (명)': '인구수' })\n",
    "\n",
    "local_MC_Population.head()  #작업 확인용 출력"
   ]
  },
  {
   "cell_type": "markdown",
   "metadata": {},
   "source": [
    "## 6) 시도군구의 인구대비 의료기관수 비율 구하기"
   ]
  },
  {
   "cell_type": "code",
   "execution_count": 35,
   "metadata": {},
   "outputs": [
    {
     "data": {
      "text/html": [
       "<div>\n",
       "<style scoped>\n",
       "    .dataframe tbody tr th:only-of-type {\n",
       "        vertical-align: middle;\n",
       "    }\n",
       "\n",
       "    .dataframe tbody tr th {\n",
       "        vertical-align: top;\n",
       "    }\n",
       "\n",
       "    .dataframe thead th {\n",
       "        text-align: right;\n",
       "    }\n",
       "</style>\n",
       "<table border=\"1\" class=\"dataframe\">\n",
       "  <thead>\n",
       "    <tr style=\"text-align: right;\">\n",
       "      <th></th>\n",
       "      <th>시도</th>\n",
       "      <th>군구</th>\n",
       "      <th>count</th>\n",
       "      <th>인구수</th>\n",
       "      <th>MC_ratio</th>\n",
       "    </tr>\n",
       "    <tr>\n",
       "      <th>시도군구</th>\n",
       "      <th></th>\n",
       "      <th></th>\n",
       "      <th></th>\n",
       "      <th></th>\n",
       "      <th></th>\n",
       "    </tr>\n",
       "  </thead>\n",
       "  <tbody>\n",
       "    <tr>\n",
       "      <th>경기도 가평군</th>\n",
       "      <td>경기도</td>\n",
       "      <td>가평군</td>\n",
       "      <td>1</td>\n",
       "      <td>62291</td>\n",
       "      <td>1.605368</td>\n",
       "    </tr>\n",
       "    <tr>\n",
       "      <th>경기도 고양시</th>\n",
       "      <td>경기도</td>\n",
       "      <td>고양시</td>\n",
       "      <td>4</td>\n",
       "      <td>1078924</td>\n",
       "      <td>0.370740</td>\n",
       "    </tr>\n",
       "    <tr>\n",
       "      <th>경기도 남양주시</th>\n",
       "      <td>경기도</td>\n",
       "      <td>남양주시</td>\n",
       "      <td>5</td>\n",
       "      <td>734013</td>\n",
       "      <td>0.681187</td>\n",
       "    </tr>\n",
       "    <tr>\n",
       "      <th>경기도 동두천시</th>\n",
       "      <td>경기도</td>\n",
       "      <td>동두천시</td>\n",
       "      <td>1</td>\n",
       "      <td>93527</td>\n",
       "      <td>1.069210</td>\n",
       "    </tr>\n",
       "    <tr>\n",
       "      <th>경기도 부천시</th>\n",
       "      <td>경기도</td>\n",
       "      <td>부천시</td>\n",
       "      <td>1</td>\n",
       "      <td>804990</td>\n",
       "      <td>0.124225</td>\n",
       "    </tr>\n",
       "  </tbody>\n",
       "</table>\n",
       "</div>"
      ],
      "text/plain": [
       "           시도    군구  count      인구수  MC_ratio\n",
       "시도군구                                         \n",
       "경기도 가평군   경기도   가평군      1    62291  1.605368\n",
       "경기도 고양시   경기도   고양시      4  1078924  0.370740\n",
       "경기도 남양주시  경기도  남양주시      5   734013  0.681187\n",
       "경기도 동두천시  경기도  동두천시      1    93527  1.069210\n",
       "경기도 부천시   경기도   부천시      1   804990  0.124225"
      ]
     },
     "execution_count": 35,
     "metadata": {},
     "output_type": "execute_result"
    }
   ],
   "source": [
    "MC_count = local_MC_Population['count']\n",
    "local_MC_Population['MC_ratio'] = MC_count.div(local_MC_Population['인구수'], axis=0)*100000\n",
    "\n",
    "local_MC_Population.head()   #작업 확인용 출력"
   ]
  },
  {
   "cell_type": "markdown",
   "metadata": {},
   "source": [
    "# 2. 분석 모델 구축 및 시각화"
   ]
  },
  {
   "cell_type": "markdown",
   "metadata": {},
   "source": [
    "##  1) 바 차트 그리기"
   ]
  },
  {
   "cell_type": "code",
   "execution_count": 36,
   "metadata": {},
   "outputs": [],
   "source": [
    "from matplotlib import pyplot as plt\n",
    "from matplotlib import rcParams, style\n",
    "style.use('ggplot')\n",
    "\n",
    "from matplotlib import font_manager, rc\n",
    "font_name = font_manager.FontProperties(fname=\"c:/Windows/Fonts/malgun.ttf\").get_name()\n",
    "rc('font', family=font_name)"
   ]
  },
  {
   "cell_type": "markdown",
   "metadata": {},
   "source": [
    "####   (1) 행정구역별 공공보건의료기관수에 대한 바 차트 "
   ]
  },
  {
   "cell_type": "code",
   "execution_count": 37,
   "metadata": {},
   "outputs": [
    {
     "data": {
      "image/png": "[encoded data removed]",
      "text/plain": [
       "<Figure size 2500x500 with 1 Axes>"
      ]
     },
     "metadata": {},
     "output_type": "display_data"
    }
   ],
   "source": [
    "MC_ratio = local_MC_Population[['count']]\n",
    "MC_ratio = MC_ratio.sort_values('count', ascending = False)\n",
    "plt.rcParams[\"figure.figsize\"] = (25,5)\n",
    "MC_ratio.plot(kind='bar', rot=90)\n",
    "plt.show()"
   ]
  },
  {
   "cell_type": "markdown",
   "metadata": {},
   "source": [
    "####   (2) 행정구역별 인구수 대비 공공보건의료기관 비율에 대한 바 차트 "
   ]
  },
  {
   "cell_type": "code",
   "execution_count": 38,
   "metadata": {
    "scrolled": true
   },
   "outputs": [
    {
     "data": {
      "image/png": "[encoded data removed]",
      "text/plain": [
       "<Figure size 2500x500 with 1 Axes>"
      ]
     },
     "metadata": {},
     "output_type": "display_data"
    }
   ],
   "source": [
    "MC_ratio = local_MC_Population[['MC_ratio']]\n",
    "MC_ratio = MC_ratio.sort_values('MC_ratio', ascending = False)\n",
    "plt.rcParams[\"figure.figsize\"] = (25,5)\n",
    "MC_ratio.plot(kind='bar', rot=90)\n",
    "plt.show()"
   ]
  },
  {
   "cell_type": "markdown",
   "metadata": {},
   "source": [
    "## 2) 블록맵 시각화"
   ]
  },
  {
   "cell_type": "markdown",
   "metadata": {},
   "source": [
    "###   (1) 블록맵 데이터 파일 열기"
   ]
  },
  {
   "cell_type": "code",
   "execution_count": 39,
   "metadata": {},
   "outputs": [],
   "source": [
    "import os\n",
    "path = os.getcwd()"
   ]
  },
  {
   "cell_type": "code",
   "execution_count": 41,
   "metadata": {},
   "outputs": [
    {
     "ename": "FileNotFoundError",
     "evalue": "[Errno 2] No such file or directory: 'C:\\\\Users\\\\tpfzl\\\\OneDrive\\\\Desktop\\\\3-1\\\\빅데이터분석\\\\소스코드\\\\My_Python\\\\ch9data_draw_korea.csv'",
     "output_type": "error",
     "traceback": [
      "\u001b[1;31m---------------------------------------------------------------------------\u001b[0m",
      "\u001b[1;31mFileNotFoundError\u001b[0m                         Traceback (most recent call last)",
      "Cell \u001b[1;32mIn[41], line 1\u001b[0m\n\u001b[1;32m----> 1\u001b[0m data_draw_korea \u001b[38;5;241m=\u001b[39m pd\u001b[38;5;241m.\u001b[39mread_csv(path\u001b[38;5;241m+\u001b[39m\u001b[38;5;124m'\u001b[39m\u001b[38;5;124mdata_draw_korea.csv\u001b[39m\u001b[38;5;124m'\u001b[39m, index_col\u001b[38;5;241m=\u001b[39m\u001b[38;5;241m0\u001b[39m, encoding\u001b[38;5;241m=\u001b[39m\u001b[38;5;124m'\u001b[39m\u001b[38;5;124mUTF-8\u001b[39m\u001b[38;5;124m'\u001b[39m, engine\u001b[38;5;241m=\u001b[39m\u001b[38;5;124m'\u001b[39m\u001b[38;5;124mpython\u001b[39m\u001b[38;5;124m'\u001b[39m)\n\u001b[0;32m      3\u001b[0m data_draw_korea\u001b[38;5;241m.\u001b[39mhead()\n",
      "File \u001b[1;32m~\\anaconda3\\Lib\\site-packages\\pandas\\io\\parsers\\readers.py:948\u001b[0m, in \u001b[0;36mread_csv\u001b[1;34m(filepath_or_buffer, sep, delimiter, header, names, index_col, usecols, dtype, engine, converters, true_values, false_values, skipinitialspace, skiprows, skipfooter, nrows, na_values, keep_default_na, na_filter, verbose, skip_blank_lines, parse_dates, infer_datetime_format, keep_date_col, date_parser, date_format, dayfirst, cache_dates, iterator, chunksize, compression, thousands, decimal, lineterminator, quotechar, quoting, doublequote, escapechar, comment, encoding, encoding_errors, dialect, on_bad_lines, delim_whitespace, low_memory, memory_map, float_precision, storage_options, dtype_backend)\u001b[0m\n\u001b[0;32m    935\u001b[0m kwds_defaults \u001b[38;5;241m=\u001b[39m _refine_defaults_read(\n\u001b[0;32m    936\u001b[0m     dialect,\n\u001b[0;32m    937\u001b[0m     delimiter,\n\u001b[1;32m   (...)\u001b[0m\n\u001b[0;32m    944\u001b[0m     dtype_backend\u001b[38;5;241m=\u001b[39mdtype_backend,\n\u001b[0;32m    945\u001b[0m )\n\u001b[0;32m    946\u001b[0m kwds\u001b[38;5;241m.\u001b[39mupdate(kwds_defaults)\n\u001b[1;32m--> 948\u001b[0m \u001b[38;5;28;01mreturn\u001b[39;00m _read(filepath_or_buffer, kwds)\n",
      "File \u001b[1;32m~\\anaconda3\\Lib\\site-packages\\pandas\\io\\parsers\\readers.py:611\u001b[0m, in \u001b[0;36m_read\u001b[1;34m(filepath_or_buffer, kwds)\u001b[0m\n\u001b[0;32m    608\u001b[0m _validate_names(kwds\u001b[38;5;241m.\u001b[39mget(\u001b[38;5;124m\"\u001b[39m\u001b[38;5;124mnames\u001b[39m\u001b[38;5;124m\"\u001b[39m, \u001b[38;5;28;01mNone\u001b[39;00m))\n\u001b[0;32m    610\u001b[0m \u001b[38;5;66;03m# Create the parser.\u001b[39;00m\n\u001b[1;32m--> 611\u001b[0m parser \u001b[38;5;241m=\u001b[39m TextFileReader(filepath_or_buffer, \u001b[38;5;241m*\u001b[39m\u001b[38;5;241m*\u001b[39mkwds)\n\u001b[0;32m    613\u001b[0m \u001b[38;5;28;01mif\u001b[39;00m chunksize \u001b[38;5;129;01mor\u001b[39;00m iterator:\n\u001b[0;32m    614\u001b[0m     \u001b[38;5;28;01mreturn\u001b[39;00m parser\n",
      "File \u001b[1;32m~\\anaconda3\\Lib\\site-packages\\pandas\\io\\parsers\\readers.py:1448\u001b[0m, in \u001b[0;36mTextFileReader.__init__\u001b[1;34m(self, f, engine, **kwds)\u001b[0m\n\u001b[0;32m   1445\u001b[0m     \u001b[38;5;28mself\u001b[39m\u001b[38;5;241m.\u001b[39moptions[\u001b[38;5;124m\"\u001b[39m\u001b[38;5;124mhas_index_names\u001b[39m\u001b[38;5;124m\"\u001b[39m] \u001b[38;5;241m=\u001b[39m kwds[\u001b[38;5;124m\"\u001b[39m\u001b[38;5;124mhas_index_names\u001b[39m\u001b[38;5;124m\"\u001b[39m]\n\u001b[0;32m   1447\u001b[0m \u001b[38;5;28mself\u001b[39m\u001b[38;5;241m.\u001b[39mhandles: IOHandles \u001b[38;5;241m|\u001b[39m \u001b[38;5;28;01mNone\u001b[39;00m \u001b[38;5;241m=\u001b[39m \u001b[38;5;28;01mNone\u001b[39;00m\n\u001b[1;32m-> 1448\u001b[0m \u001b[38;5;28mself\u001b[39m\u001b[38;5;241m.\u001b[39m_engine \u001b[38;5;241m=\u001b[39m \u001b[38;5;28mself\u001b[39m\u001b[38;5;241m.\u001b[39m_make_engine(f, \u001b[38;5;28mself\u001b[39m\u001b[38;5;241m.\u001b[39mengine)\n",
      "File \u001b[1;32m~\\anaconda3\\Lib\\site-packages\\pandas\\io\\parsers\\readers.py:1705\u001b[0m, in \u001b[0;36mTextFileReader._make_engine\u001b[1;34m(self, f, engine)\u001b[0m\n\u001b[0;32m   1703\u001b[0m     \u001b[38;5;28;01mif\u001b[39;00m \u001b[38;5;124m\"\u001b[39m\u001b[38;5;124mb\u001b[39m\u001b[38;5;124m\"\u001b[39m \u001b[38;5;129;01mnot\u001b[39;00m \u001b[38;5;129;01min\u001b[39;00m mode:\n\u001b[0;32m   1704\u001b[0m         mode \u001b[38;5;241m+\u001b[39m\u001b[38;5;241m=\u001b[39m \u001b[38;5;124m\"\u001b[39m\u001b[38;5;124mb\u001b[39m\u001b[38;5;124m\"\u001b[39m\n\u001b[1;32m-> 1705\u001b[0m \u001b[38;5;28mself\u001b[39m\u001b[38;5;241m.\u001b[39mhandles \u001b[38;5;241m=\u001b[39m get_handle(\n\u001b[0;32m   1706\u001b[0m     f,\n\u001b[0;32m   1707\u001b[0m     mode,\n\u001b[0;32m   1708\u001b[0m     encoding\u001b[38;5;241m=\u001b[39m\u001b[38;5;28mself\u001b[39m\u001b[38;5;241m.\u001b[39moptions\u001b[38;5;241m.\u001b[39mget(\u001b[38;5;124m\"\u001b[39m\u001b[38;5;124mencoding\u001b[39m\u001b[38;5;124m\"\u001b[39m, \u001b[38;5;28;01mNone\u001b[39;00m),\n\u001b[0;32m   1709\u001b[0m     compression\u001b[38;5;241m=\u001b[39m\u001b[38;5;28mself\u001b[39m\u001b[38;5;241m.\u001b[39moptions\u001b[38;5;241m.\u001b[39mget(\u001b[38;5;124m\"\u001b[39m\u001b[38;5;124mcompression\u001b[39m\u001b[38;5;124m\"\u001b[39m, \u001b[38;5;28;01mNone\u001b[39;00m),\n\u001b[0;32m   1710\u001b[0m     memory_map\u001b[38;5;241m=\u001b[39m\u001b[38;5;28mself\u001b[39m\u001b[38;5;241m.\u001b[39moptions\u001b[38;5;241m.\u001b[39mget(\u001b[38;5;124m\"\u001b[39m\u001b[38;5;124mmemory_map\u001b[39m\u001b[38;5;124m\"\u001b[39m, \u001b[38;5;28;01mFalse\u001b[39;00m),\n\u001b[0;32m   1711\u001b[0m     is_text\u001b[38;5;241m=\u001b[39mis_text,\n\u001b[0;32m   1712\u001b[0m     errors\u001b[38;5;241m=\u001b[39m\u001b[38;5;28mself\u001b[39m\u001b[38;5;241m.\u001b[39moptions\u001b[38;5;241m.\u001b[39mget(\u001b[38;5;124m\"\u001b[39m\u001b[38;5;124mencoding_errors\u001b[39m\u001b[38;5;124m\"\u001b[39m, \u001b[38;5;124m\"\u001b[39m\u001b[38;5;124mstrict\u001b[39m\u001b[38;5;124m\"\u001b[39m),\n\u001b[0;32m   1713\u001b[0m     storage_options\u001b[38;5;241m=\u001b[39m\u001b[38;5;28mself\u001b[39m\u001b[38;5;241m.\u001b[39moptions\u001b[38;5;241m.\u001b[39mget(\u001b[38;5;124m\"\u001b[39m\u001b[38;5;124mstorage_options\u001b[39m\u001b[38;5;124m\"\u001b[39m, \u001b[38;5;28;01mNone\u001b[39;00m),\n\u001b[0;32m   1714\u001b[0m )\n\u001b[0;32m   1715\u001b[0m \u001b[38;5;28;01massert\u001b[39;00m \u001b[38;5;28mself\u001b[39m\u001b[38;5;241m.\u001b[39mhandles \u001b[38;5;129;01mis\u001b[39;00m \u001b[38;5;129;01mnot\u001b[39;00m \u001b[38;5;28;01mNone\u001b[39;00m\n\u001b[0;32m   1716\u001b[0m f \u001b[38;5;241m=\u001b[39m \u001b[38;5;28mself\u001b[39m\u001b[38;5;241m.\u001b[39mhandles\u001b[38;5;241m.\u001b[39mhandle\n",
      "File \u001b[1;32m~\\anaconda3\\Lib\\site-packages\\pandas\\io\\common.py:863\u001b[0m, in \u001b[0;36mget_handle\u001b[1;34m(path_or_buf, mode, encoding, compression, memory_map, is_text, errors, storage_options)\u001b[0m\n\u001b[0;32m    858\u001b[0m \u001b[38;5;28;01melif\u001b[39;00m \u001b[38;5;28misinstance\u001b[39m(handle, \u001b[38;5;28mstr\u001b[39m):\n\u001b[0;32m    859\u001b[0m     \u001b[38;5;66;03m# Check whether the filename is to be opened in binary mode.\u001b[39;00m\n\u001b[0;32m    860\u001b[0m     \u001b[38;5;66;03m# Binary mode does not support 'encoding' and 'newline'.\u001b[39;00m\n\u001b[0;32m    861\u001b[0m     \u001b[38;5;28;01mif\u001b[39;00m ioargs\u001b[38;5;241m.\u001b[39mencoding \u001b[38;5;129;01mand\u001b[39;00m \u001b[38;5;124m\"\u001b[39m\u001b[38;5;124mb\u001b[39m\u001b[38;5;124m\"\u001b[39m \u001b[38;5;129;01mnot\u001b[39;00m \u001b[38;5;129;01min\u001b[39;00m ioargs\u001b[38;5;241m.\u001b[39mmode:\n\u001b[0;32m    862\u001b[0m         \u001b[38;5;66;03m# Encoding\u001b[39;00m\n\u001b[1;32m--> 863\u001b[0m         handle \u001b[38;5;241m=\u001b[39m \u001b[38;5;28mopen\u001b[39m(\n\u001b[0;32m    864\u001b[0m             handle,\n\u001b[0;32m    865\u001b[0m             ioargs\u001b[38;5;241m.\u001b[39mmode,\n\u001b[0;32m    866\u001b[0m             encoding\u001b[38;5;241m=\u001b[39mioargs\u001b[38;5;241m.\u001b[39mencoding,\n\u001b[0;32m    867\u001b[0m             errors\u001b[38;5;241m=\u001b[39merrors,\n\u001b[0;32m    868\u001b[0m             newline\u001b[38;5;241m=\u001b[39m\u001b[38;5;124m\"\u001b[39m\u001b[38;5;124m\"\u001b[39m,\n\u001b[0;32m    869\u001b[0m         )\n\u001b[0;32m    870\u001b[0m     \u001b[38;5;28;01melse\u001b[39;00m:\n\u001b[0;32m    871\u001b[0m         \u001b[38;5;66;03m# Binary mode\u001b[39;00m\n\u001b[0;32m    872\u001b[0m         handle \u001b[38;5;241m=\u001b[39m \u001b[38;5;28mopen\u001b[39m(handle, ioargs\u001b[38;5;241m.\u001b[39mmode)\n",
      "\u001b[1;31mFileNotFoundError\u001b[0m: [Errno 2] No such file or directory: 'C:\\\\Users\\\\tpfzl\\\\OneDrive\\\\Desktop\\\\3-1\\\\빅데이터분석\\\\소스코드\\\\My_Python\\\\ch9data_draw_korea.csv'"
     ]
    }
   ],
   "source": [
    "data_draw_korea = pd.read_csv(path+'data_draw_korea.csv', index_col=0, encoding='UTF-8', engine='python')\n",
    "\n",
    "data_draw_korea.head()   #작업 확인용 출력"
   ]
  },
  {
   "cell_type": "markdown",
   "metadata": {},
   "source": [
    "###   (2) 블록맵 데이터 파일에 '시도군구' 컬럼 만들기"
   ]
  },
  {
   "cell_type": "code",
   "execution_count": null,
   "metadata": {},
   "outputs": [],
   "source": [
    "data_draw_korea['시도군구']= data_draw_korea.apply(lambda r: r['광역시도'] + ' ' + r['행정구역'], axis=1)\n",
    "\n",
    "data_draw_korea.head()  #작업 확인용 출력"
   ]
  },
  {
   "cell_type": "markdown",
   "metadata": {},
   "source": [
    "###   (3) 블록맵 데이터에서 병합에 사용할 '시도군구' 컬럼을 인덱스로 설정하기"
   ]
  },
  {
   "cell_type": "code",
   "execution_count": null,
   "metadata": {},
   "outputs": [],
   "source": [
    "data_draw_korea = data_draw_korea.set_index(\"시도군구\")\n",
    "\n",
    "data_draw_korea.head()  #작업 확인용 출력"
   ]
  },
  {
   "cell_type": "markdown",
   "metadata": {},
   "source": [
    "###   (4) 블록맵 데이터프레임과 local_MC_Population을 병합하기"
   ]
  },
  {
   "cell_type": "code",
   "execution_count": null,
   "metadata": {},
   "outputs": [],
   "source": [
    "data_draw_korea_MC_Population_all = pd.merge(data_draw_korea,local_MC_Population,  how='outer',  left_index=True, right_index=True)\n",
    "\n",
    "data_draw_korea_MC_Population_all.head()"
   ]
  },
  {
   "cell_type": "markdown",
   "metadata": {},
   "source": [
    "###   (5) 한국지도의 블록맵 경계선 좌표를 리스트로 생성 "
   ]
  },
  {
   "cell_type": "code",
   "execution_count": null,
   "metadata": {},
   "outputs": [],
   "source": [
    "BORDER_LINES = [\n",
    "    [(3, 2), (5, 2), (5, 3), (9, 3), (9, 1)], # 인천\n",
    "    [(2, 5), (3, 5), (3, 4), (8, 4), (8, 7), (7, 7), (7, 9), (4, 9), (4, 7), (1, 7)], # 서울\n",
    "    [(1, 6), (1, 9), (3, 9), (3, 10), (8, 10), (8, 9),\n",
    "     (9, 9), (9, 8), (10, 8), (10, 5), (9, 5), (9, 3)], # 경기도\n",
    "    [(9, 12), (9, 10), (8, 10)], # 강원도\n",
    "    [(10, 5), (11, 5), (11, 4), (12, 4), (12, 5), (13, 5),\n",
    "     (13, 4), (14, 4), (14, 2)], # 충청남도\n",
    "    [(11, 5), (12, 5), (12, 6), (15, 6), (15, 7), (13, 7),\n",
    "     (13, 8), (11, 8), (11, 9), (10, 9), (10, 8)], # 충청북도\n",
    "    [(14, 4), (15, 4), (15, 6)], # 대전시\n",
    "    [(14, 7), (14, 9), (13, 9), (13, 11), (13, 13)], # 경상북도\n",
    "    [(14, 8), (16, 8), (16, 10), (15, 10),\n",
    "     (15, 11), (14, 11), (14, 12), (13, 12)], # 대구시\n",
    "    [(15, 11), (16, 11), (16, 13)], # 울산시\n",
    "    [(17, 1), (17, 3), (18, 3), (18, 6), (15, 6)], # 전라북도\n",
    "    [(19, 2), (19, 4), (21, 4), (21, 3), (22, 3), (22, 2), (19, 2)], # 광주시\n",
    "    [(18, 5), (20, 5), (20, 6)], # 전라남도\n",
    "    [(16, 9), (18, 9), (18, 8), (19, 8), (19, 9), (20, 9), (20, 10)], # 부산시\n",
    "]"
   ]
  },
  {
   "cell_type": "markdown",
   "metadata": {},
   "source": [
    "###   (6) 블록맵에서 블록에 해당 데이터를 매핑하여 색을 표시하는 함수"
   ]
  },
  {
   "cell_type": "code",
   "execution_count": null,
   "metadata": {},
   "outputs": [],
   "source": [
    "def draw_blockMap(blockedMap, targetData, title, color ):\n",
    "    whitelabelmin = (max(blockedMap[targetData]) - min(blockedMap[targetData])) * 0.25 + min(blockedMap[targetData])\n",
    "\n",
    "    datalabel = targetData\n",
    "\n",
    "    vmin = min(blockedMap[targetData])\n",
    "    vmax = max(blockedMap[targetData])\n",
    "\n",
    "    mapdata = blockedMap.pivot(index='y', columns='x', values=targetData)\n",
    "    masked_mapdata = np.ma.masked_where(np.isnan(mapdata), mapdata)\n",
    "    \n",
    "    plt.figure(figsize=(8, 13))\n",
    "    plt.title(title)\n",
    "    plt.pcolor(masked_mapdata, vmin=vmin, vmax=vmax, cmap=color, edgecolor='#aaaaaa', linewidth=0.5)\n",
    "\n",
    "    # 지역 이름 표시\n",
    "    for idx, row in blockedMap.iterrows():\n",
    "        annocolor = 'white' if row[targetData] > whitelabelmin else 'black'\n",
    "    \n",
    "        # 광역시는 구 이름이 겹치는 경우가 많아서 시단위 이름도 같이 표시한다. (중구, 서구)\n",
    "        if row['광역시도'].endswith('시') and not row['광역시도'].startswith('세종'):\n",
    "            dispname = '{}\\n{}'.format(row['광역시도'][:2], row['행정구역'][:-1])\n",
    "            if len(row['행정구역']) <= 2:\n",
    "                dispname += row['행정구역'][-1]\n",
    "        else:\n",
    "            dispname = row['행정구역'][:-1]\n",
    "\n",
    "        # 서대문구, 서귀포시 같이 이름이 3자 이상인 경우에 작은 글자로 표시한다.\n",
    "        if len(dispname.splitlines()[-1]) >= 3:\n",
    "            fontsize, linespacing = 9.5, 1.5\n",
    "        else:\n",
    "            fontsize, linespacing = 11, 1.2\n",
    "\n",
    "        plt.annotate(dispname, (row['x']+0.5, row['y']+0.5), weight='bold',\n",
    "                     fontsize=fontsize, ha='center', va='center', color=annocolor,\n",
    "                     linespacing=linespacing)\n",
    "    \n",
    "    # 시도 경계 그린다.\n",
    "    for path in BORDER_LINES:\n",
    "        ys, xs = zip(*path)\n",
    "        plt.plot(xs, ys, c='black', lw=4)\n",
    "\n",
    "    plt.gca().invert_yaxis()\n",
    "    #plt.gca().set_aspect(1)\n",
    "    plt.axis('off')\n",
    "    \n",
    "    cb = plt.colorbar(shrink=.1, aspect=10)\n",
    "    cb.set_label(datalabel)\n",
    "\n",
    "#    plt.title(title, fontdict={'fontname': 'malgun'})\n",
    "    \n",
    "    plt.tight_layout()\n",
    "    \n",
    "    plt.savefig('\\\\' + 'blockMap_' + targetData + '.png')\n",
    "                      \n",
    "    \n",
    "    plt.show()      "
   ]
  },
  {
   "cell_type": "markdown",
   "metadata": {},
   "source": [
    "###   (7) 함수를 호출하여 블록맵 생성하기"
   ]
  },
  {
   "cell_type": "markdown",
   "metadata": {},
   "source": [
    "#####     - 행정구역별 인구에 대한 의료기관 수에 대한 블록맵"
   ]
  },
  {
   "cell_type": "code",
   "execution_count": null,
   "metadata": {},
   "outputs": [],
   "source": [
    "draw_blockMap(data_draw_korea_MC_Population_all, 'count', '행정구역별 공공보건의료기관 수', 'Blues')"
   ]
  },
  {
   "cell_type": "markdown",
   "metadata": {},
   "source": [
    "#####     - 행정구역별 인구에 대한 의료기관 비율에 대한 블록맵"
   ]
  },
  {
   "cell_type": "code",
   "execution_count": null,
   "metadata": {},
   "outputs": [],
   "source": [
    "draw_blockMap(data_draw_korea_MC_Population_all, 'MC_ratio', '행정구역별 인구수 대비 공공보건의료기관 비율', 'Reds' )"
   ]
  }
 ],
 "metadata": {
  "kernelspec": {
   "display_name": "Python 3 (ipykernel)",
   "language": "python",
   "name": "python3"
  },
  "language_info": {
   "codemirror_mode": {
    "name": "ipython",
    "version": 3
   },
   "file_extension": ".py",
   "mimetype": "text/x-python",
   "name": "python",
   "nbconvert_exporter": "python",
   "pygments_lexer": "ipython3",
   "version": "3.11.7"
  }
 },
 "nbformat": 4,
 "nbformat_minor": 4
}
